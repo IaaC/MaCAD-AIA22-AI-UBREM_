{
  "nbformat": 4,
  "nbformat_minor": 0,
  "metadata": {
    "colab": {
      "name": "ANNregression_AI_UBREM_v5 .ipynb",
      "provenance": [],
      "collapsed_sections": []
    },
    "kernelspec": {
      "name": "python3",
      "display_name": "Python 3"
    },
    "language_info": {
      "name": "python"
    }
  },
  "cells": [
    {
      "cell_type": "markdown",
      "metadata": {
        "id": "aavFGckZVCfU"
      },
      "source": [
        "#Numerical regression"
      ]
    },
    {
      "cell_type": "markdown",
      "metadata": {
        "id": "2PvW4Hn9VFIS"
      },
      "source": [
        "in this example we will use Keras to predict wages based on various professional and demographic factors."
      ]
    },
    {
      "cell_type": "code",
      "metadata": {
        "id": "vwueWxGEVLk1",
        "colab": {
          "base_uri": "https://localhost:8080/"
        },
        "outputId": "3ec3c81f-924f-4a3f-d9b4-7eac417bd30e"
      },
      "source": [
        "# Import standard Libraries\n",
        "import pandas as pd\n",
        "import seaborn as sns\n",
        "import altair as alt\n",
        "import tensorflow as tf\n",
        "import matplotlib.pyplot as plt\n",
        "import joblib\n",
        "\n",
        "\n",
        "sns.set(rc={'figure.figsize':(10,10)})\n",
        "print(\"imports ok\")"
      ],
      "execution_count": 1,
      "outputs": [
        {
          "output_type": "stream",
          "name": "stdout",
          "text": [
            "imports ok\n"
          ]
        }
      ]
    },
    {
      "cell_type": "markdown",
      "metadata": {
        "id": "n74tPoRCCyJK"
      },
      "source": [
        "##Load Data"
      ]
    },
    {
      "cell_type": "code",
      "metadata": {
        "id": "UDsLccXgE69X",
        "colab": {
          "base_uri": "https://localhost:8080/"
        },
        "outputId": "6bfa4072-c798-4c8e-e764-09aac4cb550b"
      },
      "source": [
        "#connect google drive to this colab\n",
        "from google.colab import drive\n",
        "drive.mount('/content/gdrive')"
      ],
      "execution_count": 2,
      "outputs": [
        {
          "output_type": "stream",
          "name": "stdout",
          "text": [
            "Mounted at /content/gdrive\n"
          ]
        }
      ]
    },
    {
      "cell_type": "code",
      "source": [
        "from google.colab import drive\n",
        "drive.mount('/content/drive')"
      ],
      "metadata": {
        "colab": {
          "base_uri": "https://localhost:8080/"
        },
        "id": "5l0Gc1AOM907",
        "outputId": "12d2ab53-1c82-45ef-fb96-4926131d3617"
      },
      "execution_count": 5,
      "outputs": [
        {
          "output_type": "stream",
          "name": "stdout",
          "text": [
            "Drive already mounted at /content/drive; to attempt to forcibly remount, call drive.mount(\"/content/drive\", force_remount=True).\n"
          ]
        }
      ]
    },
    {
      "cell_type": "code",
      "metadata": {
        "id": "a13oEGYhFaOk"
      },
      "source": [
        "# Load data\n",
        "data = pd.read_csv('/content/gdrive/MyDrive/AIA-IAAC/4-AIA-AI-UBREM/Iteration_5_Energy_prediction/Vienna_all_energy_cleaned_Per.csv')\n",
        "#pd.set_option('display.max_columns', None)\n",
        "#data.dropna(inplace=True)"
      ],
      "execution_count": 4,
      "outputs": []
    },
    {
      "cell_type": "code",
      "source": [
        "data.columns"
      ],
      "metadata": {
        "colab": {
          "base_uri": "https://localhost:8080/"
        },
        "id": "L0X8aGapNcep",
        "outputId": "3d62658e-139a-4af5-f34d-95150c2cab84"
      },
      "execution_count": 5,
      "outputs": [
        {
          "output_type": "execute_result",
          "data": {
            "text/plain": [
              "Index(['osmid', 'building', 'lat', 'lon', 'area',\n",
              "       'Heating_energy_kWh_per_m2_a', 'Cooling_energy_kWh_per_m2_a',\n",
              "       'DHW_energy_kWh_per_m2_a', 'total_energy_kWh_per_m2_a',\n",
              "       'u_value_walls_W_per_m2K', 'u_value_roof_W_per_m2K',\n",
              "       'u_value_basement_W_per_m2K', 'u_value_glass_W_per_m2K',\n",
              "       'g_value_glass_W_per_m2K', 'geometry'],\n",
              "      dtype='object')"
            ]
          },
          "metadata": {},
          "execution_count": 5
        }
      ]
    },
    {
      "cell_type": "code",
      "source": [
        ""
      ],
      "metadata": {
        "id": "9K_Xfu5qNfHz"
      },
      "execution_count": null,
      "outputs": []
    },
    {
      "cell_type": "code",
      "metadata": {
        "id": "ahqyPaG4ZHCC",
        "colab": {
          "base_uri": "https://localhost:8080/"
        },
        "outputId": "6b2d8761-df9a-48a1-cc68-bddaef10921e"
      },
      "source": [
        "print(data.info())"
      ],
      "execution_count": 6,
      "outputs": [
        {
          "output_type": "stream",
          "name": "stdout",
          "text": [
            "<class 'pandas.core.frame.DataFrame'>\n",
            "RangeIndex: 15807 entries, 0 to 15806\n",
            "Data columns (total 15 columns):\n",
            " #   Column                       Non-Null Count  Dtype  \n",
            "---  ------                       --------------  -----  \n",
            " 0   osmid                        15807 non-null  int64  \n",
            " 1   building                     15807 non-null  object \n",
            " 2   lat                          15807 non-null  float64\n",
            " 3   lon                          15807 non-null  float64\n",
            " 4   area                         15807 non-null  float64\n",
            " 5   Heating_energy_kWh_per_m2_a  15807 non-null  float64\n",
            " 6   Cooling_energy_kWh_per_m2_a  15807 non-null  float64\n",
            " 7   DHW_energy_kWh_per_m2_a      15807 non-null  float64\n",
            " 8   total_energy_kWh_per_m2_a    15807 non-null  float64\n",
            " 9   u_value_walls_W_per_m2K      15807 non-null  float64\n",
            " 10  u_value_roof_W_per_m2K       15807 non-null  float64\n",
            " 11  u_value_basement_W_per_m2K   15807 non-null  float64\n",
            " 12  u_value_glass_W_per_m2K      15807 non-null  float64\n",
            " 13  g_value_glass_W_per_m2K      15807 non-null  float64\n",
            " 14  geometry                     15807 non-null  object \n",
            "dtypes: float64(12), int64(1), object(2)\n",
            "memory usage: 1.8+ MB\n",
            "None\n"
          ]
        }
      ]
    },
    {
      "cell_type": "code",
      "source": [
        "data['building'].unique"
      ],
      "metadata": {
        "colab": {
          "base_uri": "https://localhost:8080/"
        },
        "id": "Nx8ztimXwhy6",
        "outputId": "beeb7a35-cd49-42ab-9c91-5e27c0afaa6f"
      },
      "execution_count": 7,
      "outputs": [
        {
          "output_type": "execute_result",
          "data": {
            "text/plain": [
              "<bound method Series.unique of 0         apartments\n",
              "1        residential\n",
              "2        residential\n",
              "3        residential\n",
              "4        residential\n",
              "            ...     \n",
              "15802         school\n",
              "15803         school\n",
              "15804         school\n",
              "15805         school\n",
              "15806         school\n",
              "Name: building, Length: 15807, dtype: object>"
            ]
          },
          "metadata": {},
          "execution_count": 7
        }
      ]
    },
    {
      "cell_type": "code",
      "source": [
        "data['building'].values"
      ],
      "metadata": {
        "colab": {
          "base_uri": "https://localhost:8080/"
        },
        "id": "aJvS1VDnwrei",
        "outputId": "aa044d4a-4677-45bc-89ac-0965d8fe5629"
      },
      "execution_count": 8,
      "outputs": [
        {
          "output_type": "execute_result",
          "data": {
            "text/plain": [
              "array(['apartments', 'residential', 'residential', ..., 'school',\n",
              "       'school', 'school'], dtype=object)"
            ]
          },
          "metadata": {},
          "execution_count": 8
        }
      ]
    },
    {
      "cell_type": "code",
      "source": [
        "data1=data"
      ],
      "metadata": {
        "id": "KPehZUL0wwFJ"
      },
      "execution_count": 17,
      "outputs": []
    },
    {
      "cell_type": "code",
      "source": [
        "import numpy as np"
      ],
      "metadata": {
        "id": "XXMX0ahnyvJS"
      },
      "execution_count": 19,
      "outputs": []
    },
    {
      "cell_type": "code",
      "source": [
        "data1['bdgcode'] = np.nan"
      ],
      "metadata": {
        "id": "fjylC9dQyLcM"
      },
      "execution_count": 20,
      "outputs": []
    },
    {
      "cell_type": "code",
      "source": [
        "for i in data1.index:\n",
        "  if data1['building'][i]=='residential':\n",
        "    data1['bdgcode'][i]= 1\n",
        "  elif data1['building'][i]=='apartments':\n",
        "    data1['bdgcode'][i]= 2\n",
        "  elif data1['building'][i]=='detached':\n",
        "    data1['bdgcode'][i]= 3\n",
        "  elif data1['building'][i]=='school':\n",
        "    data1['bdgcode'][i]= 4\n",
        "  elif data1['building'][i]=='office':\n",
        "    data1['bdgcode'][i]= 5\n",
        "  \n"
      ],
      "metadata": {
        "colab": {
          "base_uri": "https://localhost:8080/"
        },
        "id": "e32H4lrew0Jj",
        "outputId": "65bbcdb4-5ac5-4fb6-b14d-5264db4e9de4"
      },
      "execution_count": 21,
      "outputs": [
        {
          "output_type": "stream",
          "name": "stderr",
          "text": [
            "/usr/local/lib/python3.7/dist-packages/ipykernel_launcher.py:5: SettingWithCopyWarning: \n",
            "A value is trying to be set on a copy of a slice from a DataFrame\n",
            "\n",
            "See the caveats in the documentation: https://pandas.pydata.org/pandas-docs/stable/user_guide/indexing.html#returning-a-view-versus-a-copy\n",
            "  \"\"\"\n",
            "/usr/local/lib/python3.7/dist-packages/ipykernel_launcher.py:3: SettingWithCopyWarning: \n",
            "A value is trying to be set on a copy of a slice from a DataFrame\n",
            "\n",
            "See the caveats in the documentation: https://pandas.pydata.org/pandas-docs/stable/user_guide/indexing.html#returning-a-view-versus-a-copy\n",
            "  This is separate from the ipykernel package so we can avoid doing imports until\n",
            "/usr/local/lib/python3.7/dist-packages/ipykernel_launcher.py:7: SettingWithCopyWarning: \n",
            "A value is trying to be set on a copy of a slice from a DataFrame\n",
            "\n",
            "See the caveats in the documentation: https://pandas.pydata.org/pandas-docs/stable/user_guide/indexing.html#returning-a-view-versus-a-copy\n",
            "  import sys\n",
            "/usr/local/lib/python3.7/dist-packages/ipykernel_launcher.py:11: SettingWithCopyWarning: \n",
            "A value is trying to be set on a copy of a slice from a DataFrame\n",
            "\n",
            "See the caveats in the documentation: https://pandas.pydata.org/pandas-docs/stable/user_guide/indexing.html#returning-a-view-versus-a-copy\n",
            "  # This is added back by InteractiveShellApp.init_path()\n",
            "/usr/local/lib/python3.7/dist-packages/ipykernel_launcher.py:9: SettingWithCopyWarning: \n",
            "A value is trying to be set on a copy of a slice from a DataFrame\n",
            "\n",
            "See the caveats in the documentation: https://pandas.pydata.org/pandas-docs/stable/user_guide/indexing.html#returning-a-view-versus-a-copy\n",
            "  if __name__ == '__main__':\n"
          ]
        }
      ]
    },
    {
      "cell_type": "code",
      "source": [
        "#data1=data.drop(data.columns[0, 1,4,17], axis= 1)"
      ],
      "metadata": {
        "id": "ZHmulo3_ssXD"
      },
      "execution_count": null,
      "outputs": []
    },
    {
      "cell_type": "code",
      "source": [
        "data1.columns"
      ],
      "metadata": {
        "colab": {
          "base_uri": "https://localhost:8080/"
        },
        "id": "0JmABLsNy8vd",
        "outputId": "32f00748-94ed-4dbd-cac4-002931537907"
      },
      "execution_count": 22,
      "outputs": [
        {
          "output_type": "execute_result",
          "data": {
            "text/plain": [
              "Index(['osmid', 'building', 'lat', 'lon', 'area',\n",
              "       'Heating_energy_kWh_per_m2_a', 'Cooling_energy_kWh_per_m2_a',\n",
              "       'DHW_energy_kWh_per_m2_a', 'total_energy_kWh_per_m2_a',\n",
              "       'u_value_walls_W_per_m2K', 'u_value_roof_W_per_m2K',\n",
              "       'u_value_basement_W_per_m2K', 'u_value_glass_W_per_m2K',\n",
              "       'g_value_glass_W_per_m2K', 'geometry', 'bdgcode'],\n",
              "      dtype='object')"
            ]
          },
          "metadata": {},
          "execution_count": 22
        }
      ]
    },
    {
      "cell_type": "code",
      "source": [
        "print(data1.info())"
      ],
      "metadata": {
        "colab": {
          "base_uri": "https://localhost:8080/"
        },
        "id": "C0IUfy36y_gD",
        "outputId": "92cb622f-991c-4448-b49d-7babc0be63c8"
      },
      "execution_count": 24,
      "outputs": [
        {
          "output_type": "stream",
          "name": "stdout",
          "text": [
            "<class 'pandas.core.frame.DataFrame'>\n",
            "RangeIndex: 15807 entries, 0 to 15806\n",
            "Data columns (total 16 columns):\n",
            " #   Column                       Non-Null Count  Dtype  \n",
            "---  ------                       --------------  -----  \n",
            " 0   osmid                        15807 non-null  int64  \n",
            " 1   building                     15807 non-null  object \n",
            " 2   lat                          15807 non-null  float64\n",
            " 3   lon                          15807 non-null  float64\n",
            " 4   area                         15807 non-null  float64\n",
            " 5   Heating_energy_kWh_per_m2_a  15807 non-null  float64\n",
            " 6   Cooling_energy_kWh_per_m2_a  15807 non-null  float64\n",
            " 7   DHW_energy_kWh_per_m2_a      15807 non-null  float64\n",
            " 8   total_energy_kWh_per_m2_a    15807 non-null  float64\n",
            " 9   u_value_walls_W_per_m2K      15807 non-null  float64\n",
            " 10  u_value_roof_W_per_m2K       15807 non-null  float64\n",
            " 11  u_value_basement_W_per_m2K   15807 non-null  float64\n",
            " 12  u_value_glass_W_per_m2K      15807 non-null  float64\n",
            " 13  g_value_glass_W_per_m2K      15807 non-null  float64\n",
            " 14  geometry                     15807 non-null  object \n",
            " 15  bdgcode                      15807 non-null  float64\n",
            "dtypes: float64(13), int64(1), object(2)\n",
            "memory usage: 1.9+ MB\n",
            "None\n"
          ]
        }
      ]
    },
    {
      "cell_type": "code",
      "source": [
        "data2=data1.drop([data.columns[0],data.columns[2], 'lon','building'], axis = 1)"
      ],
      "metadata": {
        "id": "04N11YgfyhLU"
      },
      "execution_count": 26,
      "outputs": []
    },
    {
      "cell_type": "code",
      "source": [
        "data3=data1.drop([data.columns[0],data.columns[2], 'lon','building','geometry'], axis = 1)"
      ],
      "metadata": {
        "id": "vrGraAjM0j0C"
      },
      "execution_count": 35,
      "outputs": []
    },
    {
      "cell_type": "code",
      "source": [
        "data2.shape"
      ],
      "metadata": {
        "colab": {
          "base_uri": "https://localhost:8080/"
        },
        "id": "H8Trw_aONAfI",
        "outputId": "f70a7eef-1ca4-40ff-a6ad-6c34ed2d86bc"
      },
      "execution_count": 27,
      "outputs": [
        {
          "output_type": "execute_result",
          "data": {
            "text/plain": [
              "(15807, 12)"
            ]
          },
          "metadata": {},
          "execution_count": 27
        }
      ]
    },
    {
      "cell_type": "code",
      "source": [
        "print(data2.info())"
      ],
      "metadata": {
        "colab": {
          "base_uri": "https://localhost:8080/"
        },
        "id": "bEE4cxIl0VCj",
        "outputId": "0df33ea3-e82e-488e-c0a5-e6ea366e4e00"
      },
      "execution_count": 28,
      "outputs": [
        {
          "output_type": "stream",
          "name": "stdout",
          "text": [
            "<class 'pandas.core.frame.DataFrame'>\n",
            "RangeIndex: 15807 entries, 0 to 15806\n",
            "Data columns (total 12 columns):\n",
            " #   Column                       Non-Null Count  Dtype  \n",
            "---  ------                       --------------  -----  \n",
            " 0   area                         15807 non-null  float64\n",
            " 1   Heating_energy_kWh_per_m2_a  15807 non-null  float64\n",
            " 2   Cooling_energy_kWh_per_m2_a  15807 non-null  float64\n",
            " 3   DHW_energy_kWh_per_m2_a      15807 non-null  float64\n",
            " 4   total_energy_kWh_per_m2_a    15807 non-null  float64\n",
            " 5   u_value_walls_W_per_m2K      15807 non-null  float64\n",
            " 6   u_value_roof_W_per_m2K       15807 non-null  float64\n",
            " 7   u_value_basement_W_per_m2K   15807 non-null  float64\n",
            " 8   u_value_glass_W_per_m2K      15807 non-null  float64\n",
            " 9   g_value_glass_W_per_m2K      15807 non-null  float64\n",
            " 10  geometry                     15807 non-null  object \n",
            " 11  bdgcode                      15807 non-null  float64\n",
            "dtypes: float64(11), object(1)\n",
            "memory usage: 1.4+ MB\n",
            "None\n"
          ]
        }
      ]
    },
    {
      "cell_type": "code",
      "source": [
        "data2.columns"
      ],
      "metadata": {
        "colab": {
          "base_uri": "https://localhost:8080/"
        },
        "id": "DV7yDCNmz_rd",
        "outputId": "c86ac4a3-15f6-4de6-d2cf-9571463abf6f"
      },
      "execution_count": 29,
      "outputs": [
        {
          "output_type": "execute_result",
          "data": {
            "text/plain": [
              "Index(['area', 'Heating_energy_kWh_per_m2_a', 'Cooling_energy_kWh_per_m2_a',\n",
              "       'DHW_energy_kWh_per_m2_a', 'total_energy_kWh_per_m2_a',\n",
              "       'u_value_walls_W_per_m2K', 'u_value_roof_W_per_m2K',\n",
              "       'u_value_basement_W_per_m2K', 'u_value_glass_W_per_m2K',\n",
              "       'g_value_glass_W_per_m2K', 'geometry', 'bdgcode'],\n",
              "      dtype='object')"
            ]
          },
          "metadata": {},
          "execution_count": 29
        }
      ]
    },
    {
      "cell_type": "code",
      "source": [
        "path = '/content/gdrive/MyDrive/AIA-IAAC/4-AIA-AI-UBREM/Iteration_5_Energy_prediction/Vienna_energy_train5.csv'\n",
        "data2.to_csv(path)"
      ],
      "metadata": {
        "id": "dNh4SAUIwv9S"
      },
      "execution_count": 59,
      "outputs": []
    },
    {
      "cell_type": "code",
      "source": [
        "data3.columns"
      ],
      "metadata": {
        "colab": {
          "base_uri": "https://localhost:8080/"
        },
        "id": "G1baJyUDAV7R",
        "outputId": "fc4e5082-c5e3-4efc-bd1b-2bd11034049a"
      },
      "execution_count": 61,
      "outputs": [
        {
          "output_type": "execute_result",
          "data": {
            "text/plain": [
              "Index(['area', 'Heating_energy_kWh_per_m2_a', 'Cooling_energy_kWh_per_m2_a',\n",
              "       'DHW_energy_kWh_per_m2_a', 'total_energy_kWh_per_m2_a',\n",
              "       'u_value_walls_W_per_m2K', 'u_value_roof_W_per_m2K',\n",
              "       'u_value_basement_W_per_m2K', 'u_value_glass_W_per_m2K',\n",
              "       'g_value_glass_W_per_m2K', 'bdgcode'],\n",
              "      dtype='object')"
            ]
          },
          "metadata": {},
          "execution_count": 61
        }
      ]
    },
    {
      "cell_type": "code",
      "source": [
        "print(data3.info())"
      ],
      "metadata": {
        "colab": {
          "base_uri": "https://localhost:8080/"
        },
        "id": "maDnYx2oAbzM",
        "outputId": "9deebeef-104a-492b-fc1f-f52a02acabdd"
      },
      "execution_count": 62,
      "outputs": [
        {
          "output_type": "stream",
          "name": "stdout",
          "text": [
            "<class 'pandas.core.frame.DataFrame'>\n",
            "RangeIndex: 15807 entries, 0 to 15806\n",
            "Data columns (total 11 columns):\n",
            " #   Column                       Non-Null Count  Dtype  \n",
            "---  ------                       --------------  -----  \n",
            " 0   area                         15807 non-null  float64\n",
            " 1   Heating_energy_kWh_per_m2_a  15807 non-null  float64\n",
            " 2   Cooling_energy_kWh_per_m2_a  15807 non-null  float64\n",
            " 3   DHW_energy_kWh_per_m2_a      15807 non-null  float64\n",
            " 4   total_energy_kWh_per_m2_a    15807 non-null  float64\n",
            " 5   u_value_walls_W_per_m2K      15807 non-null  float64\n",
            " 6   u_value_roof_W_per_m2K       15807 non-null  float64\n",
            " 7   u_value_basement_W_per_m2K   15807 non-null  float64\n",
            " 8   u_value_glass_W_per_m2K      15807 non-null  float64\n",
            " 9   g_value_glass_W_per_m2K      15807 non-null  float64\n",
            " 10  bdgcode                      15807 non-null  float64\n",
            "dtypes: float64(11)\n",
            "memory usage: 1.3 MB\n",
            "None\n"
          ]
        }
      ]
    },
    {
      "cell_type": "code",
      "source": [
        "path3 = '/content/gdrive/MyDrive/AIA-IAAC/4-AIA-AI-UBREM/Iteration_5_Energy_prediction/Vienna_energy_train5_noGeo.csv'\n",
        "data3.to_csv(path3)"
      ],
      "metadata": {
        "id": "LVtNH-DH0plS"
      },
      "execution_count": 60,
      "outputs": []
    },
    {
      "cell_type": "code",
      "metadata": {
        "id": "cAb6E4TZZohN",
        "colab": {
          "base_uri": "https://localhost:8080/"
        },
        "outputId": "cc879372-49d9-447a-c315-879de7f64c14"
      },
      "source": [
        "for colname, col in data3.iteritems():\n",
        "  print(colname, \"min_val\", col.min(), \"max_val\", col.max())"
      ],
      "execution_count": 37,
      "outputs": [
        {
          "output_type": "stream",
          "name": "stdout",
          "text": [
            "area min_val 0.0 max_val 18964.213\n",
            "Heating_energy_kWh_per_m2_a min_val 3.4 max_val 240.8\n",
            "Cooling_energy_kWh_per_m2_a min_val 2.5 max_val 14.5\n",
            "DHW_energy_kWh_per_m2_a min_val 1.72 max_val 24.3\n",
            "total_energy_kWh_per_m2_a min_val 7.62 max_val 259.1\n",
            "u_value_walls_W_per_m2K min_val 0.088 max_val 2.59\n",
            "u_value_roof_W_per_m2K min_val 0.065 max_val 2.17\n",
            "u_value_basement_W_per_m2K min_val 0.088 max_val 3.8\n",
            "u_value_glass_W_per_m2K min_val 0.062 max_val 3.0\n",
            "g_value_glass_W_per_m2K min_val 0.039 max_val 0.8\n",
            "bdgcode min_val 1.0 max_val 5.0\n"
          ]
        }
      ]
    },
    {
      "cell_type": "markdown",
      "metadata": {
        "id": "f0F4fjWvDzXR"
      },
      "source": [
        "##Prepare Data"
      ]
    },
    {
      "cell_type": "markdown",
      "metadata": {
        "id": "ZYVDwtH4a9TU"
      },
      "source": [
        "**NORMALIZE INPUTS**"
      ]
    },
    {
      "cell_type": "code",
      "source": [
        "data3.columns"
      ],
      "metadata": {
        "colab": {
          "base_uri": "https://localhost:8080/"
        },
        "id": "TsphNhNhd1hv",
        "outputId": "14666199-9a4b-4ec5-8ad8-1738eabf4304"
      },
      "execution_count": 38,
      "outputs": [
        {
          "output_type": "execute_result",
          "data": {
            "text/plain": [
              "Index(['area', 'Heating_energy_kWh_per_m2_a', 'Cooling_energy_kWh_per_m2_a',\n",
              "       'DHW_energy_kWh_per_m2_a', 'total_energy_kWh_per_m2_a',\n",
              "       'u_value_walls_W_per_m2K', 'u_value_roof_W_per_m2K',\n",
              "       'u_value_basement_W_per_m2K', 'u_value_glass_W_per_m2K',\n",
              "       'g_value_glass_W_per_m2K', 'bdgcode'],\n",
              "      dtype='object')"
            ]
          },
          "metadata": {},
          "execution_count": 38
        }
      ]
    },
    {
      "cell_type": "code",
      "source": [
        ""
      ],
      "metadata": {
        "id": "voCxFnkneYjQ"
      },
      "execution_count": null,
      "outputs": []
    },
    {
      "cell_type": "code",
      "source": [
        "#data=data.dropna()"
      ],
      "metadata": {
        "id": "eUTdeCjCfKeB"
      },
      "execution_count": null,
      "outputs": []
    },
    {
      "cell_type": "code",
      "metadata": {
        "id": "OLbdqNZUI_n0",
        "colab": {
          "base_uri": "https://localhost:8080/"
        },
        "outputId": "78202f75-a75c-4ef1-af32-4b6c79a1e43f"
      },
      "source": [
        "#same code as last time\n",
        "\n",
        "#declare features\n",
        "#X = data.iloc[:,1:-1]\n",
        "X = data3[[ 'area', \n",
        "       'u_value_walls_W_per_m2K', 'u_value_roof_W_per_m2K',\n",
        "       'u_value_basement_W_per_m2K', 'u_value_glass_W_per_m2K',\n",
        "       'g_value_glass_W_per_m2K', 'bdgcode' ]]   \n",
        "\n",
        "# Load and instantiate a StandardSclaer \n",
        "from sklearn.preprocessing import StandardScaler\n",
        "scalerX = StandardScaler()\n",
        "\n",
        "# Apply the scaler to our X-features\n",
        "X_scaled = scalerX.fit_transform(X)\n",
        "\n",
        "print(X_scaled.shape)"
      ],
      "execution_count": 43,
      "outputs": [
        {
          "output_type": "stream",
          "name": "stdout",
          "text": [
            "(15807, 7)\n"
          ]
        }
      ]
    },
    {
      "cell_type": "code",
      "source": [
        "#'Heating_energy_kWh_per_m2_a', 'Cooling_energy_kWh_per_m2_a',\n",
        "#       'DHW_energy_kWh_per_m2_a', 'total_energy_kWh_per_m2_a',"
      ],
      "metadata": {
        "id": "_IPrEauc06n1"
      },
      "execution_count": null,
      "outputs": []
    },
    {
      "cell_type": "code",
      "metadata": {
        "id": "OtTK5LuUaqcI",
        "colab": {
          "base_uri": "https://localhost:8080/"
        },
        "outputId": "428464c2-ece3-4ec8-cfd3-1a7d3fbad29f"
      },
      "source": [
        "#declare regression target\n",
        "#y = data.loc[:,\"wage_per_hour\"].to_numpy()\n",
        "y = data3.loc[:, ['Heating_energy_kWh_per_m2_a', 'Cooling_energy_kWh_per_m2_a','DHW_energy_kWh_per_m2_a', 'total_energy_kWh_per_m2_a']].to_numpy()\n",
        "\n",
        "#y = y.reshape(-1, 1)\n",
        "\n",
        "from sklearn.preprocessing import MinMaxScaler\n",
        "scalerY = MinMaxScaler()\n",
        "\n",
        "\n",
        "#In this case it makes sense to use MinMax scaling because the wage seems like a relative range\n",
        "# Apply the scaler to our Y-features\n",
        "y_scaled = scalerY.fit_transform(y)\n",
        "\n",
        "print(y_scaled.shape)\n",
        "print(y_scaled)\n"
      ],
      "execution_count": 44,
      "outputs": [
        {
          "output_type": "stream",
          "name": "stdout",
          "text": [
            "(15807, 4)\n",
            "[[0.53748947 0.40833333 1.         0.61627167]\n",
            " [0.82603201 1.         0.62798937 0.88388739]\n",
            " [0.82603201 1.         0.62798937 0.88388739]\n",
            " ...\n",
            " [1.         0.325      0.45084145 1.        ]\n",
            " [1.         0.325      0.45084145 1.        ]\n",
            " [1.         0.325      0.45084145 1.        ]]\n"
          ]
        }
      ]
    },
    {
      "cell_type": "markdown",
      "metadata": {
        "id": "zK5Y5r1iID3q"
      },
      "source": [
        "**SPLIT INTO TRAIN AND TEST**"
      ]
    },
    {
      "cell_type": "code",
      "metadata": {
        "id": "lZAV56sSIKlm"
      },
      "source": [
        "from sklearn.model_selection import train_test_split\n",
        "X_train, X_test, y_train, y_test = train_test_split(X_scaled, y_scaled, test_size = 0.2, random_state = 21)"
      ],
      "execution_count": 45,
      "outputs": []
    },
    {
      "cell_type": "code",
      "metadata": {
        "id": "SiKj7ifPJr5E",
        "colab": {
          "base_uri": "https://localhost:8080/"
        },
        "outputId": "059591e8-df7c-46f3-9a4a-47fb0fd92e89"
      },
      "source": [
        "#visualize our data\n",
        "#we can see that scikitlearn doesnt care if it is a dataframe or a numpy array, because they all function on the same way \n",
        "print(\"TRAIN\", \"input\", X_train.shape, \"output\", y_train.shape)\n",
        "print(\"TEST\", \"input\", X_test.shape, \"output\", y_test.shape)\n",
        "print(X_test)\n",
        "print(y_test)"
      ],
      "execution_count": 46,
      "outputs": [
        {
          "output_type": "stream",
          "name": "stdout",
          "text": [
            "TRAIN input (12645, 7) output (12645, 4)\n",
            "TEST input (3162, 7) output (3162, 4)\n",
            "[[-0.20137407  0.85311596  0.17388361 ...  0.693263    0.09479546\n",
            "   2.13607183]\n",
            " [ 0.0318442  -1.46460045 -1.4639682  ... -1.58407534  0.09479546\n",
            "  -0.44919577]\n",
            " [-0.1456841   0.0079818   1.22534403 ...  0.45354318  0.09479546\n",
            "  -0.44919577]\n",
            " ...\n",
            " [-0.30186823  0.85311596  0.17388361 ...  0.693263    0.09479546\n",
            "  -0.44919577]\n",
            " [-0.26678575 -1.46460045 -1.4639682  ... -1.58407534  0.09479546\n",
            "  -0.44919577]\n",
            " [-0.28131558  0.0079818   1.22534403 ...  0.45354318  0.09479546\n",
            "  -0.44919577]]\n",
            "[[0.82603201 1.         0.62798937 0.88388739]\n",
            " [0.04970514 0.15833333 0.45084145 0.09495785]\n",
            " [0.61415333 0.68333333 0.44198406 0.65205981]\n",
            " ...\n",
            " [0.82603201 1.         0.62798937 0.88388739]\n",
            " [0.04970514 0.15833333 0.45084145 0.09495785]\n",
            " [0.61415333 0.68333333 0.44198406 0.65205981]]\n"
          ]
        }
      ]
    },
    {
      "cell_type": "markdown",
      "metadata": {
        "id": "d7cAwh56dZ9x"
      },
      "source": [
        "#Build model"
      ]
    },
    {
      "cell_type": "markdown",
      "metadata": {
        "id": "QB79eIKLHPKC"
      },
      "source": [
        "From the cheatSheet\n",
        "Regression between 0 and 1>> \n",
        "      activation = relu for hidden layers / sigmoid for final layer\n",
        "      loss = mean squared error\n",
        "      optimizer = adam\n",
        "      input from data, is 8 columns\n",
        "      output is 1 value prediction"
      ]
    },
    {
      "cell_type": "code",
      "metadata": {
        "id": "vm8wVMjXGbU2"
      },
      "source": [
        "# Instantiate a sequential model\n",
        "#tf.seed(5)\n",
        "#model.save()\n",
        "model = tf.keras.models.Sequential()\n",
        "n_cols = X_scaled.shape[1]  \n",
        "\n",
        "# Add 2 dense layers of 18 and 12 neurons each\n",
        "model.add(tf.keras.layers.Dense(36, input_shape=(n_cols,), activation='relu'))\n",
        "#model.add(tf.keras.layers.Dense(36, activation='relu'))\n",
        "model.add(tf.keras.layers.Dense(16, activation='relu'))\n",
        "model.add(tf.keras.layers.Dense(8, activation='relu'))\n",
        "model.add(tf.keras.layers.Dense(4, activation='relu'))\n",
        "  \n",
        "# Add a dense layer with 1 value output\n",
        "#model.add(tf.keras.layers.Dense(1, activation= \"linear\"))\n",
        "  \n",
        "# Compile your model \n",
        "model.compile(optimizer = \"adam\", loss = \"mean_squared_error\")\n"
      ],
      "execution_count": 47,
      "outputs": []
    },
    {
      "cell_type": "code",
      "source": [
        ""
      ],
      "metadata": {
        "id": "HMwc8KW2oZ9D"
      },
      "execution_count": null,
      "outputs": []
    },
    {
      "cell_type": "code",
      "metadata": {
        "id": "nz9jL30qH-XD",
        "colab": {
          "base_uri": "https://localhost:8080/"
        },
        "outputId": "5b0e650e-863b-4d8a-dca6-6a9a6e72053f"
      },
      "source": [
        "model.summary()"
      ],
      "execution_count": 48,
      "outputs": [
        {
          "output_type": "stream",
          "name": "stdout",
          "text": [
            "Model: \"sequential\"\n",
            "_________________________________________________________________\n",
            " Layer (type)                Output Shape              Param #   \n",
            "=================================================================\n",
            " dense (Dense)               (None, 36)                288       \n",
            "                                                                 \n",
            " dense_1 (Dense)             (None, 16)                592       \n",
            "                                                                 \n",
            " dense_2 (Dense)             (None, 8)                 136       \n",
            "                                                                 \n",
            " dense_3 (Dense)             (None, 4)                 36        \n",
            "                                                                 \n",
            "=================================================================\n",
            "Total params: 1,052\n",
            "Trainable params: 1,052\n",
            "Non-trainable params: 0\n",
            "_________________________________________________________________\n"
          ]
        }
      ]
    },
    {
      "cell_type": "markdown",
      "metadata": {
        "id": "pvaLenUEHmpg"
      },
      "source": [
        "#Train model"
      ]
    },
    {
      "cell_type": "code",
      "metadata": {
        "id": "HRiRCUglH33Z",
        "colab": {
          "base_uri": "https://localhost:8080/"
        },
        "outputId": "d84a0d20-76b0-4ce7-f37e-e6c5c02f40dd"
      },
      "source": [
        "# Fit your model to the training data for 200 epochs\n",
        "#we assign this to history variable so we can plot the training data\n",
        "history = model.fit(X_train,y_train,epochs=400, validation_split=0.2)"
      ],
      "execution_count": 49,
      "outputs": [
        {
          "output_type": "stream",
          "name": "stdout",
          "text": [
            "Epoch 1/400\n",
            "317/317 [==============================] - 2s 3ms/step - loss: 0.1466 - val_loss: 0.1081\n",
            "Epoch 2/400\n",
            "317/317 [==============================] - 1s 2ms/step - loss: 0.1058 - val_loss: 0.1058\n",
            "Epoch 3/400\n",
            "317/317 [==============================] - 1s 3ms/step - loss: 0.1051 - val_loss: 0.1055\n",
            "Epoch 4/400\n",
            "317/317 [==============================] - 1s 2ms/step - loss: 0.1049 - val_loss: 0.1053\n",
            "Epoch 5/400\n",
            "317/317 [==============================] - 1s 3ms/step - loss: 0.1046 - val_loss: 0.1050\n",
            "Epoch 6/400\n",
            "317/317 [==============================] - 1s 2ms/step - loss: 0.1044 - val_loss: 0.1047\n",
            "Epoch 7/400\n",
            "317/317 [==============================] - 1s 2ms/step - loss: 0.1041 - val_loss: 0.1045\n",
            "Epoch 8/400\n",
            "317/317 [==============================] - 1s 2ms/step - loss: 0.1037 - val_loss: 0.1041\n",
            "Epoch 9/400\n",
            "317/317 [==============================] - 1s 2ms/step - loss: 0.1033 - val_loss: 0.1038\n",
            "Epoch 10/400\n",
            "317/317 [==============================] - 1s 2ms/step - loss: 0.1030 - val_loss: 0.1038\n",
            "Epoch 11/400\n",
            "317/317 [==============================] - 1s 2ms/step - loss: 0.1026 - val_loss: 0.1031\n",
            "Epoch 12/400\n",
            "317/317 [==============================] - 1s 2ms/step - loss: 0.1022 - val_loss: 0.1028\n",
            "Epoch 13/400\n",
            "317/317 [==============================] - 1s 2ms/step - loss: 0.1018 - val_loss: 0.1024\n",
            "Epoch 14/400\n",
            "317/317 [==============================] - 1s 2ms/step - loss: 0.1012 - val_loss: 0.1020\n",
            "Epoch 15/400\n",
            "317/317 [==============================] - 1s 2ms/step - loss: 0.1008 - val_loss: 0.1017\n",
            "Epoch 16/400\n",
            "317/317 [==============================] - 1s 2ms/step - loss: 0.1002 - val_loss: 0.1012\n",
            "Epoch 17/400\n",
            "317/317 [==============================] - 1s 2ms/step - loss: 0.0996 - val_loss: 0.1008\n",
            "Epoch 18/400\n",
            "317/317 [==============================] - 1s 2ms/step - loss: 0.0990 - val_loss: 0.1002\n",
            "Epoch 19/400\n",
            "317/317 [==============================] - 1s 2ms/step - loss: 0.0983 - val_loss: 0.0997\n",
            "Epoch 20/400\n",
            "317/317 [==============================] - 1s 2ms/step - loss: 0.0978 - val_loss: 0.0993\n",
            "Epoch 21/400\n",
            "317/317 [==============================] - 1s 2ms/step - loss: 0.0973 - val_loss: 0.0993\n",
            "Epoch 22/400\n",
            "317/317 [==============================] - 1s 2ms/step - loss: 0.0971 - val_loss: 0.0989\n",
            "Epoch 23/400\n",
            "317/317 [==============================] - 1s 2ms/step - loss: 0.0969 - val_loss: 0.0988\n",
            "Epoch 24/400\n",
            "317/317 [==============================] - 1s 2ms/step - loss: 0.0967 - val_loss: 0.0985\n",
            "Epoch 25/400\n",
            "317/317 [==============================] - 1s 2ms/step - loss: 0.0228 - val_loss: 0.0014\n",
            "Epoch 26/400\n",
            "317/317 [==============================] - 1s 2ms/step - loss: 0.0012 - val_loss: 0.0013\n",
            "Epoch 27/400\n",
            "317/317 [==============================] - 1s 3ms/step - loss: 0.0012 - val_loss: 0.0014\n",
            "Epoch 28/400\n",
            "317/317 [==============================] - 1s 3ms/step - loss: 0.0013 - val_loss: 0.0013\n",
            "Epoch 29/400\n",
            "317/317 [==============================] - 1s 2ms/step - loss: 0.0012 - val_loss: 0.0013\n",
            "Epoch 30/400\n",
            "317/317 [==============================] - 1s 2ms/step - loss: 0.0012 - val_loss: 0.0012\n",
            "Epoch 31/400\n",
            "317/317 [==============================] - 1s 2ms/step - loss: 0.0012 - val_loss: 0.0012\n",
            "Epoch 32/400\n",
            "317/317 [==============================] - 1s 2ms/step - loss: 0.0012 - val_loss: 0.0012\n",
            "Epoch 33/400\n",
            "317/317 [==============================] - 1s 2ms/step - loss: 0.0012 - val_loss: 0.0012\n",
            "Epoch 34/400\n",
            "317/317 [==============================] - 1s 2ms/step - loss: 0.0012 - val_loss: 0.0013\n",
            "Epoch 35/400\n",
            "317/317 [==============================] - 1s 2ms/step - loss: 0.0012 - val_loss: 0.0012\n",
            "Epoch 36/400\n",
            "317/317 [==============================] - 1s 2ms/step - loss: 0.0012 - val_loss: 0.0013\n",
            "Epoch 37/400\n",
            "317/317 [==============================] - 1s 2ms/step - loss: 0.0012 - val_loss: 0.0012\n",
            "Epoch 38/400\n",
            "317/317 [==============================] - 1s 2ms/step - loss: 0.0012 - val_loss: 0.0012\n",
            "Epoch 39/400\n",
            "317/317 [==============================] - 1s 5ms/step - loss: 0.0011 - val_loss: 0.0012\n",
            "Epoch 40/400\n",
            "317/317 [==============================] - 1s 2ms/step - loss: 0.0011 - val_loss: 0.0012\n",
            "Epoch 41/400\n",
            "317/317 [==============================] - 1s 2ms/step - loss: 0.0011 - val_loss: 0.0012\n",
            "Epoch 42/400\n",
            "317/317 [==============================] - 1s 2ms/step - loss: 0.0011 - val_loss: 0.0011\n",
            "Epoch 43/400\n",
            "317/317 [==============================] - 1s 2ms/step - loss: 0.0011 - val_loss: 0.0011\n",
            "Epoch 44/400\n",
            "317/317 [==============================] - 1s 2ms/step - loss: 0.0011 - val_loss: 0.0011\n",
            "Epoch 45/400\n",
            "317/317 [==============================] - 1s 2ms/step - loss: 0.0010 - val_loss: 0.0011\n",
            "Epoch 46/400\n",
            "317/317 [==============================] - 1s 2ms/step - loss: 0.0010 - val_loss: 0.0011\n",
            "Epoch 47/400\n",
            "317/317 [==============================] - 1s 2ms/step - loss: 0.0010 - val_loss: 0.0011\n",
            "Epoch 48/400\n",
            "317/317 [==============================] - 1s 2ms/step - loss: 9.8514e-04 - val_loss: 0.0010\n",
            "Epoch 49/400\n",
            "317/317 [==============================] - 1s 2ms/step - loss: 9.5636e-04 - val_loss: 0.0010\n",
            "Epoch 50/400\n",
            "317/317 [==============================] - 1s 2ms/step - loss: 9.2976e-04 - val_loss: 9.7599e-04\n",
            "Epoch 51/400\n",
            "317/317 [==============================] - 1s 2ms/step - loss: 9.0634e-04 - val_loss: 9.5507e-04\n",
            "Epoch 52/400\n",
            "317/317 [==============================] - 1s 3ms/step - loss: 8.8805e-04 - val_loss: 9.3707e-04\n",
            "Epoch 53/400\n",
            "317/317 [==============================] - 1s 2ms/step - loss: 8.7034e-04 - val_loss: 9.1915e-04\n",
            "Epoch 54/400\n",
            "317/317 [==============================] - 1s 2ms/step - loss: 8.5910e-04 - val_loss: 9.3735e-04\n",
            "Epoch 55/400\n",
            "317/317 [==============================] - 1s 2ms/step - loss: 8.4994e-04 - val_loss: 8.9887e-04\n",
            "Epoch 56/400\n",
            "317/317 [==============================] - 1s 2ms/step - loss: 8.3577e-04 - val_loss: 8.9416e-04\n",
            "Epoch 57/400\n",
            "317/317 [==============================] - 1s 2ms/step - loss: 8.3221e-04 - val_loss: 8.9060e-04\n",
            "Epoch 58/400\n",
            "317/317 [==============================] - 1s 2ms/step - loss: 8.3299e-04 - val_loss: 8.9430e-04\n",
            "Epoch 59/400\n",
            "317/317 [==============================] - 1s 2ms/step - loss: 8.4199e-04 - val_loss: 8.9141e-04\n",
            "Epoch 60/400\n",
            "317/317 [==============================] - 1s 2ms/step - loss: 8.4732e-04 - val_loss: 8.9290e-04\n",
            "Epoch 61/400\n",
            "317/317 [==============================] - 1s 2ms/step - loss: 8.3357e-04 - val_loss: 8.8886e-04\n",
            "Epoch 62/400\n",
            "317/317 [==============================] - 1s 2ms/step - loss: 8.3825e-04 - val_loss: 9.2513e-04\n",
            "Epoch 63/400\n",
            "317/317 [==============================] - 1s 2ms/step - loss: 8.5197e-04 - val_loss: 9.1964e-04\n",
            "Epoch 64/400\n",
            "317/317 [==============================] - 1s 2ms/step - loss: 8.3192e-04 - val_loss: 8.8781e-04\n",
            "Epoch 65/400\n",
            "317/317 [==============================] - 1s 2ms/step - loss: 8.2950e-04 - val_loss: 8.8725e-04\n",
            "Epoch 66/400\n",
            "317/317 [==============================] - 1s 2ms/step - loss: 8.3308e-04 - val_loss: 8.9489e-04\n",
            "Epoch 67/400\n",
            "317/317 [==============================] - 1s 2ms/step - loss: 8.2893e-04 - val_loss: 8.8836e-04\n",
            "Epoch 68/400\n",
            "317/317 [==============================] - 1s 2ms/step - loss: 8.2927e-04 - val_loss: 8.8828e-04\n",
            "Epoch 69/400\n",
            "317/317 [==============================] - 1s 2ms/step - loss: 8.2951e-04 - val_loss: 9.0101e-04\n",
            "Epoch 70/400\n",
            "317/317 [==============================] - 1s 2ms/step - loss: 8.4285e-04 - val_loss: 9.0200e-04\n",
            "Epoch 71/400\n",
            "317/317 [==============================] - 1s 2ms/step - loss: 8.4134e-04 - val_loss: 8.9162e-04\n",
            "Epoch 72/400\n",
            "317/317 [==============================] - 1s 2ms/step - loss: 8.3531e-04 - val_loss: 8.9213e-04\n",
            "Epoch 73/400\n",
            "317/317 [==============================] - 1s 2ms/step - loss: 8.3009e-04 - val_loss: 8.8729e-04\n",
            "Epoch 74/400\n",
            "317/317 [==============================] - 1s 2ms/step - loss: 8.2858e-04 - val_loss: 8.8883e-04\n",
            "Epoch 75/400\n",
            "317/317 [==============================] - 1s 2ms/step - loss: 8.2859e-04 - val_loss: 8.8945e-04\n",
            "Epoch 76/400\n",
            "317/317 [==============================] - 1s 2ms/step - loss: 8.3489e-04 - val_loss: 8.9194e-04\n",
            "Epoch 77/400\n",
            "317/317 [==============================] - 1s 2ms/step - loss: 8.3441e-04 - val_loss: 8.8858e-04\n",
            "Epoch 78/400\n",
            "317/317 [==============================] - 1s 2ms/step - loss: 8.3749e-04 - val_loss: 8.9132e-04\n",
            "Epoch 79/400\n",
            "317/317 [==============================] - 1s 2ms/step - loss: 8.2046e-04 - val_loss: 7.3831e-04\n",
            "Epoch 80/400\n",
            "317/317 [==============================] - 1s 2ms/step - loss: 6.7544e-04 - val_loss: 7.2731e-04\n",
            "Epoch 81/400\n",
            "317/317 [==============================] - 1s 2ms/step - loss: 6.6954e-04 - val_loss: 7.2577e-04\n",
            "Epoch 82/400\n",
            "317/317 [==============================] - 1s 2ms/step - loss: 6.6528e-04 - val_loss: 7.2756e-04\n",
            "Epoch 83/400\n",
            "317/317 [==============================] - 1s 2ms/step - loss: 6.6589e-04 - val_loss: 7.2624e-04\n",
            "Epoch 84/400\n",
            "317/317 [==============================] - 1s 2ms/step - loss: 6.7019e-04 - val_loss: 7.3313e-04\n",
            "Epoch 85/400\n",
            "317/317 [==============================] - 1s 2ms/step - loss: 6.7869e-04 - val_loss: 7.5288e-04\n",
            "Epoch 86/400\n",
            "317/317 [==============================] - 1s 3ms/step - loss: 6.8883e-04 - val_loss: 7.3766e-04\n",
            "Epoch 87/400\n",
            "317/317 [==============================] - 1s 4ms/step - loss: 6.7997e-04 - val_loss: 7.2846e-04\n",
            "Epoch 88/400\n",
            "317/317 [==============================] - 1s 3ms/step - loss: 6.6700e-04 - val_loss: 7.2738e-04\n",
            "Epoch 89/400\n",
            "317/317 [==============================] - 1s 4ms/step - loss: 6.6546e-04 - val_loss: 7.2586e-04\n",
            "Epoch 90/400\n",
            "317/317 [==============================] - 1s 3ms/step - loss: 6.6531e-04 - val_loss: 7.2712e-04\n",
            "Epoch 91/400\n",
            "317/317 [==============================] - 1s 2ms/step - loss: 6.6549e-04 - val_loss: 7.2618e-04\n",
            "Epoch 92/400\n",
            "317/317 [==============================] - 1s 2ms/step - loss: 6.6540e-04 - val_loss: 7.2600e-04\n",
            "Epoch 93/400\n",
            "317/317 [==============================] - 1s 2ms/step - loss: 6.6615e-04 - val_loss: 7.3091e-04\n",
            "Epoch 94/400\n",
            "317/317 [==============================] - 1s 2ms/step - loss: 6.6677e-04 - val_loss: 7.2966e-04\n",
            "Epoch 95/400\n",
            "317/317 [==============================] - 1s 2ms/step - loss: 6.7244e-04 - val_loss: 7.2780e-04\n",
            "Epoch 96/400\n",
            "317/317 [==============================] - 1s 2ms/step - loss: 6.6644e-04 - val_loss: 7.2734e-04\n",
            "Epoch 97/400\n",
            "317/317 [==============================] - 1s 2ms/step - loss: 6.6731e-04 - val_loss: 7.3602e-04\n",
            "Epoch 98/400\n",
            "317/317 [==============================] - 1s 2ms/step - loss: 6.7168e-04 - val_loss: 7.3739e-04\n",
            "Epoch 99/400\n",
            "317/317 [==============================] - 1s 2ms/step - loss: 6.7012e-04 - val_loss: 7.2812e-04\n",
            "Epoch 100/400\n",
            "317/317 [==============================] - 1s 2ms/step - loss: 6.6805e-04 - val_loss: 7.2750e-04\n",
            "Epoch 101/400\n",
            "317/317 [==============================] - 1s 2ms/step - loss: 6.6831e-04 - val_loss: 7.2647e-04\n",
            "Epoch 102/400\n",
            "317/317 [==============================] - 1s 2ms/step - loss: 6.6602e-04 - val_loss: 7.2999e-04\n",
            "Epoch 103/400\n",
            "317/317 [==============================] - 1s 2ms/step - loss: 6.6926e-04 - val_loss: 7.2846e-04\n",
            "Epoch 104/400\n",
            "317/317 [==============================] - 1s 2ms/step - loss: 6.6856e-04 - val_loss: 7.2835e-04\n",
            "Epoch 105/400\n",
            "317/317 [==============================] - 1s 2ms/step - loss: 6.6871e-04 - val_loss: 7.2589e-04\n",
            "Epoch 106/400\n",
            "317/317 [==============================] - 1s 2ms/step - loss: 6.6694e-04 - val_loss: 7.7598e-04\n",
            "Epoch 107/400\n",
            "317/317 [==============================] - 1s 2ms/step - loss: 6.6883e-04 - val_loss: 7.2552e-04\n",
            "Epoch 108/400\n",
            "317/317 [==============================] - 1s 2ms/step - loss: 6.6556e-04 - val_loss: 7.2616e-04\n",
            "Epoch 109/400\n",
            "317/317 [==============================] - 1s 2ms/step - loss: 6.6629e-04 - val_loss: 7.2746e-04\n",
            "Epoch 110/400\n",
            "317/317 [==============================] - 1s 2ms/step - loss: 6.6580e-04 - val_loss: 7.2602e-04\n",
            "Epoch 111/400\n",
            "317/317 [==============================] - 1s 2ms/step - loss: 6.6593e-04 - val_loss: 7.2691e-04\n",
            "Epoch 112/400\n",
            "317/317 [==============================] - 1s 2ms/step - loss: 6.7277e-04 - val_loss: 7.2548e-04\n",
            "Epoch 113/400\n",
            "317/317 [==============================] - 1s 2ms/step - loss: 6.6608e-04 - val_loss: 7.2666e-04\n",
            "Epoch 114/400\n",
            "317/317 [==============================] - 1s 2ms/step - loss: 6.6824e-04 - val_loss: 7.3412e-04\n",
            "Epoch 115/400\n",
            "317/317 [==============================] - 1s 2ms/step - loss: 6.6800e-04 - val_loss: 7.2607e-04\n",
            "Epoch 116/400\n",
            "317/317 [==============================] - 1s 2ms/step - loss: 6.6939e-04 - val_loss: 7.6634e-04\n",
            "Epoch 117/400\n",
            "317/317 [==============================] - 1s 2ms/step - loss: 6.7157e-04 - val_loss: 7.2570e-04\n",
            "Epoch 118/400\n",
            "317/317 [==============================] - 1s 3ms/step - loss: 6.6553e-04 - val_loss: 7.2689e-04\n",
            "Epoch 119/400\n",
            "317/317 [==============================] - 1s 2ms/step - loss: 6.6527e-04 - val_loss: 7.2535e-04\n",
            "Epoch 120/400\n",
            "317/317 [==============================] - 1s 2ms/step - loss: 6.6590e-04 - val_loss: 7.2645e-04\n",
            "Epoch 121/400\n",
            "317/317 [==============================] - 1s 2ms/step - loss: 6.6512e-04 - val_loss: 7.2561e-04\n",
            "Epoch 122/400\n",
            "317/317 [==============================] - 1s 2ms/step - loss: 6.6552e-04 - val_loss: 7.2555e-04\n",
            "Epoch 123/400\n",
            "317/317 [==============================] - 1s 2ms/step - loss: 6.6735e-04 - val_loss: 7.8080e-04\n",
            "Epoch 124/400\n",
            "317/317 [==============================] - 1s 2ms/step - loss: 6.7372e-04 - val_loss: 7.2723e-04\n",
            "Epoch 125/400\n",
            "317/317 [==============================] - 1s 2ms/step - loss: 6.6651e-04 - val_loss: 7.2541e-04\n",
            "Epoch 126/400\n",
            "317/317 [==============================] - 1s 2ms/step - loss: 6.6588e-04 - val_loss: 7.2624e-04\n",
            "Epoch 127/400\n",
            "317/317 [==============================] - 1s 2ms/step - loss: 6.6666e-04 - val_loss: 7.2562e-04\n",
            "Epoch 128/400\n",
            "317/317 [==============================] - 1s 2ms/step - loss: 6.6533e-04 - val_loss: 7.2541e-04\n",
            "Epoch 129/400\n",
            "317/317 [==============================] - 1s 2ms/step - loss: 6.6663e-04 - val_loss: 7.4500e-04\n",
            "Epoch 130/400\n",
            "317/317 [==============================] - 1s 2ms/step - loss: 6.6817e-04 - val_loss: 7.3212e-04\n",
            "Epoch 131/400\n",
            "317/317 [==============================] - 1s 3ms/step - loss: 6.6881e-04 - val_loss: 7.2675e-04\n",
            "Epoch 132/400\n",
            "317/317 [==============================] - 1s 2ms/step - loss: 6.6554e-04 - val_loss: 7.2598e-04\n",
            "Epoch 133/400\n",
            "317/317 [==============================] - 1s 2ms/step - loss: 6.6786e-04 - val_loss: 7.2714e-04\n",
            "Epoch 134/400\n",
            "317/317 [==============================] - 1s 3ms/step - loss: 6.7265e-04 - val_loss: 7.2986e-04\n",
            "Epoch 135/400\n",
            "317/317 [==============================] - 1s 2ms/step - loss: 6.6686e-04 - val_loss: 7.2715e-04\n",
            "Epoch 136/400\n",
            "317/317 [==============================] - 1s 2ms/step - loss: 6.6564e-04 - val_loss: 7.2569e-04\n",
            "Epoch 137/400\n",
            "317/317 [==============================] - 1s 2ms/step - loss: 6.6566e-04 - val_loss: 7.6398e-04\n",
            "Epoch 138/400\n",
            "317/317 [==============================] - 1s 2ms/step - loss: 6.7297e-04 - val_loss: 7.2817e-04\n",
            "Epoch 139/400\n",
            "317/317 [==============================] - 1s 2ms/step - loss: 6.6887e-04 - val_loss: 7.2769e-04\n",
            "Epoch 140/400\n",
            "317/317 [==============================] - 1s 2ms/step - loss: 6.6747e-04 - val_loss: 7.2605e-04\n",
            "Epoch 141/400\n",
            "317/317 [==============================] - 1s 2ms/step - loss: 6.6691e-04 - val_loss: 7.2552e-04\n",
            "Epoch 142/400\n",
            "317/317 [==============================] - 1s 2ms/step - loss: 6.6554e-04 - val_loss: 7.2685e-04\n",
            "Epoch 143/400\n",
            "317/317 [==============================] - 1s 2ms/step - loss: 6.6588e-04 - val_loss: 7.2534e-04\n",
            "Epoch 144/400\n",
            "317/317 [==============================] - 1s 2ms/step - loss: 6.6524e-04 - val_loss: 7.7249e-04\n",
            "Epoch 145/400\n",
            "317/317 [==============================] - 1s 2ms/step - loss: 6.6962e-04 - val_loss: 7.2546e-04\n",
            "Epoch 146/400\n",
            "317/317 [==============================] - 1s 2ms/step - loss: 6.6501e-04 - val_loss: 7.2668e-04\n",
            "Epoch 147/400\n",
            "317/317 [==============================] - 1s 2ms/step - loss: 6.6873e-04 - val_loss: 7.2681e-04\n",
            "Epoch 148/400\n",
            "317/317 [==============================] - 1s 2ms/step - loss: 6.6583e-04 - val_loss: 7.2592e-04\n",
            "Epoch 149/400\n",
            "317/317 [==============================] - 1s 2ms/step - loss: 6.6867e-04 - val_loss: 7.2685e-04\n",
            "Epoch 150/400\n",
            "317/317 [==============================] - 1s 2ms/step - loss: 6.6704e-04 - val_loss: 7.2861e-04\n",
            "Epoch 151/400\n",
            "317/317 [==============================] - 1s 2ms/step - loss: 6.6870e-04 - val_loss: 7.2630e-04\n",
            "Epoch 152/400\n",
            "317/317 [==============================] - 1s 2ms/step - loss: 6.6536e-04 - val_loss: 7.3055e-04\n",
            "Epoch 153/400\n",
            "317/317 [==============================] - 1s 2ms/step - loss: 6.6600e-04 - val_loss: 7.2530e-04\n",
            "Epoch 154/400\n",
            "317/317 [==============================] - 1s 2ms/step - loss: 6.6508e-04 - val_loss: 7.2975e-04\n",
            "Epoch 155/400\n",
            "317/317 [==============================] - 1s 2ms/step - loss: 6.6771e-04 - val_loss: 7.3741e-04\n",
            "Epoch 156/400\n",
            "317/317 [==============================] - 1s 2ms/step - loss: 6.6701e-04 - val_loss: 7.3164e-04\n",
            "Epoch 157/400\n",
            "317/317 [==============================] - 1s 2ms/step - loss: 6.7166e-04 - val_loss: 7.2808e-04\n",
            "Epoch 158/400\n",
            "317/317 [==============================] - 1s 2ms/step - loss: 6.6523e-04 - val_loss: 7.2536e-04\n",
            "Epoch 159/400\n",
            "317/317 [==============================] - 1s 2ms/step - loss: 6.6479e-04 - val_loss: 7.2519e-04\n",
            "Epoch 160/400\n",
            "317/317 [==============================] - 1s 2ms/step - loss: 6.6572e-04 - val_loss: 7.2627e-04\n",
            "Epoch 161/400\n",
            "317/317 [==============================] - 1s 2ms/step - loss: 6.6541e-04 - val_loss: 7.3384e-04\n",
            "Epoch 162/400\n",
            "317/317 [==============================] - 1s 2ms/step - loss: 6.6863e-04 - val_loss: 7.2704e-04\n",
            "Epoch 163/400\n",
            "317/317 [==============================] - 1s 2ms/step - loss: 6.6554e-04 - val_loss: 7.2539e-04\n",
            "Epoch 164/400\n",
            "317/317 [==============================] - 1s 2ms/step - loss: 6.6485e-04 - val_loss: 7.2518e-04\n",
            "Epoch 165/400\n",
            "317/317 [==============================] - 1s 2ms/step - loss: 6.6541e-04 - val_loss: 7.3857e-04\n",
            "Epoch 166/400\n",
            "317/317 [==============================] - 1s 3ms/step - loss: 6.6615e-04 - val_loss: 7.2549e-04\n",
            "Epoch 167/400\n",
            "317/317 [==============================] - 1s 2ms/step - loss: 6.6484e-04 - val_loss: 7.2535e-04\n",
            "Epoch 168/400\n",
            "317/317 [==============================] - 1s 2ms/step - loss: 6.6520e-04 - val_loss: 7.2622e-04\n",
            "Epoch 169/400\n",
            "317/317 [==============================] - 1s 2ms/step - loss: 6.6793e-04 - val_loss: 7.4357e-04\n",
            "Epoch 170/400\n",
            "317/317 [==============================] - 1s 2ms/step - loss: 6.6663e-04 - val_loss: 7.2742e-04\n",
            "Epoch 171/400\n",
            "317/317 [==============================] - 1s 2ms/step - loss: 6.6589e-04 - val_loss: 7.2523e-04\n",
            "Epoch 172/400\n",
            "317/317 [==============================] - 1s 2ms/step - loss: 6.6485e-04 - val_loss: 7.2532e-04\n",
            "Epoch 173/400\n",
            "317/317 [==============================] - 1s 2ms/step - loss: 6.6490e-04 - val_loss: 7.2550e-04\n",
            "Epoch 174/400\n",
            "317/317 [==============================] - 1s 2ms/step - loss: 6.6821e-04 - val_loss: 7.3214e-04\n",
            "Epoch 175/400\n",
            "317/317 [==============================] - 1s 3ms/step - loss: 6.6867e-04 - val_loss: 7.3270e-04\n",
            "Epoch 176/400\n",
            "317/317 [==============================] - 1s 3ms/step - loss: 6.6581e-04 - val_loss: 7.2529e-04\n",
            "Epoch 177/400\n",
            "317/317 [==============================] - 1s 2ms/step - loss: 6.6487e-04 - val_loss: 7.2519e-04\n",
            "Epoch 178/400\n",
            "317/317 [==============================] - 1s 3ms/step - loss: 6.6479e-04 - val_loss: 7.2520e-04\n",
            "Epoch 179/400\n",
            "317/317 [==============================] - 1s 2ms/step - loss: 6.6519e-04 - val_loss: 7.2600e-04\n",
            "Epoch 180/400\n",
            "317/317 [==============================] - 1s 2ms/step - loss: 6.6920e-04 - val_loss: 7.2561e-04\n",
            "Epoch 181/400\n",
            "317/317 [==============================] - 1s 2ms/step - loss: 6.6494e-04 - val_loss: 7.2578e-04\n",
            "Epoch 182/400\n",
            "317/317 [==============================] - 1s 2ms/step - loss: 6.6489e-04 - val_loss: 7.2529e-04\n",
            "Epoch 183/400\n",
            "317/317 [==============================] - 1s 2ms/step - loss: 6.6508e-04 - val_loss: 7.2553e-04\n",
            "Epoch 184/400\n",
            "317/317 [==============================] - 1s 2ms/step - loss: 6.6670e-04 - val_loss: 7.2613e-04\n",
            "Epoch 185/400\n",
            "317/317 [==============================] - 1s 2ms/step - loss: 6.6721e-04 - val_loss: 7.2534e-04\n",
            "Epoch 186/400\n",
            "317/317 [==============================] - 1s 2ms/step - loss: 6.6491e-04 - val_loss: 7.2697e-04\n",
            "Epoch 187/400\n",
            "317/317 [==============================] - 1s 2ms/step - loss: 6.6559e-04 - val_loss: 7.2667e-04\n",
            "Epoch 188/400\n",
            "317/317 [==============================] - 1s 3ms/step - loss: 6.7711e-04 - val_loss: 7.3410e-04\n",
            "Epoch 189/400\n",
            "317/317 [==============================] - 1s 3ms/step - loss: 6.6730e-04 - val_loss: 7.2554e-04\n",
            "Epoch 190/400\n",
            "317/317 [==============================] - 1s 3ms/step - loss: 6.6711e-04 - val_loss: 7.2574e-04\n",
            "Epoch 191/400\n",
            "317/317 [==============================] - 1s 2ms/step - loss: 6.6587e-04 - val_loss: 7.2552e-04\n",
            "Epoch 192/400\n",
            "317/317 [==============================] - 1s 3ms/step - loss: 6.6525e-04 - val_loss: 7.2696e-04\n",
            "Epoch 193/400\n",
            "317/317 [==============================] - 1s 2ms/step - loss: 6.6555e-04 - val_loss: 7.2608e-04\n",
            "Epoch 194/400\n",
            "317/317 [==============================] - 1s 2ms/step - loss: 6.6566e-04 - val_loss: 7.2542e-04\n",
            "Epoch 195/400\n",
            "317/317 [==============================] - 1s 3ms/step - loss: 6.6529e-04 - val_loss: 7.2543e-04\n",
            "Epoch 196/400\n",
            "317/317 [==============================] - 1s 2ms/step - loss: 6.6637e-04 - val_loss: 7.3169e-04\n",
            "Epoch 197/400\n",
            "317/317 [==============================] - 1s 3ms/step - loss: 6.6764e-04 - val_loss: 7.6240e-04\n",
            "Epoch 198/400\n",
            "317/317 [==============================] - 1s 2ms/step - loss: 6.7106e-04 - val_loss: 7.2563e-04\n",
            "Epoch 199/400\n",
            "317/317 [==============================] - 1s 2ms/step - loss: 6.6491e-04 - val_loss: 7.2521e-04\n",
            "Epoch 200/400\n",
            "317/317 [==============================] - 1s 2ms/step - loss: 6.6481e-04 - val_loss: 7.2528e-04\n",
            "Epoch 201/400\n",
            "317/317 [==============================] - 1s 2ms/step - loss: 6.6480e-04 - val_loss: 7.2569e-04\n",
            "Epoch 202/400\n",
            "317/317 [==============================] - 1s 2ms/step - loss: 6.6559e-04 - val_loss: 7.2625e-04\n",
            "Epoch 203/400\n",
            "317/317 [==============================] - 1s 2ms/step - loss: 6.6571e-04 - val_loss: 7.2729e-04\n",
            "Epoch 204/400\n",
            "317/317 [==============================] - 1s 2ms/step - loss: 6.6625e-04 - val_loss: 7.2733e-04\n",
            "Epoch 205/400\n",
            "317/317 [==============================] - 1s 2ms/step - loss: 6.6662e-04 - val_loss: 7.2534e-04\n",
            "Epoch 206/400\n",
            "317/317 [==============================] - 1s 2ms/step - loss: 6.6487e-04 - val_loss: 7.2538e-04\n",
            "Epoch 207/400\n",
            "317/317 [==============================] - 1s 2ms/step - loss: 6.6637e-04 - val_loss: 7.2619e-04\n",
            "Epoch 208/400\n",
            "317/317 [==============================] - 1s 3ms/step - loss: 6.6527e-04 - val_loss: 7.2524e-04\n",
            "Epoch 209/400\n",
            "317/317 [==============================] - 1s 2ms/step - loss: 6.6484e-04 - val_loss: 7.2590e-04\n",
            "Epoch 210/400\n",
            "317/317 [==============================] - 1s 2ms/step - loss: 6.6771e-04 - val_loss: 7.5457e-04\n",
            "Epoch 211/400\n",
            "317/317 [==============================] - 1s 2ms/step - loss: 6.7088e-04 - val_loss: 7.2523e-04\n",
            "Epoch 212/400\n",
            "317/317 [==============================] - 1s 3ms/step - loss: 6.6582e-04 - val_loss: 7.2538e-04\n",
            "Epoch 213/400\n",
            "317/317 [==============================] - 1s 3ms/step - loss: 6.6700e-04 - val_loss: 7.2527e-04\n",
            "Epoch 214/400\n",
            "317/317 [==============================] - 1s 2ms/step - loss: 6.6499e-04 - val_loss: 7.2777e-04\n",
            "Epoch 215/400\n",
            "317/317 [==============================] - 1s 3ms/step - loss: 6.6626e-04 - val_loss: 7.2554e-04\n",
            "Epoch 216/400\n",
            "317/317 [==============================] - 1s 2ms/step - loss: 6.6722e-04 - val_loss: 7.2601e-04\n",
            "Epoch 217/400\n",
            "317/317 [==============================] - 1s 3ms/step - loss: 6.6563e-04 - val_loss: 7.2676e-04\n",
            "Epoch 218/400\n",
            "317/317 [==============================] - 1s 2ms/step - loss: 6.6507e-04 - val_loss: 7.2672e-04\n",
            "Epoch 219/400\n",
            "317/317 [==============================] - 1s 3ms/step - loss: 6.6541e-04 - val_loss: 7.3246e-04\n",
            "Epoch 220/400\n",
            "317/317 [==============================] - 1s 2ms/step - loss: 6.6858e-04 - val_loss: 7.2555e-04\n",
            "Epoch 221/400\n",
            "317/317 [==============================] - 1s 2ms/step - loss: 6.6513e-04 - val_loss: 7.2559e-04\n",
            "Epoch 222/400\n",
            "317/317 [==============================] - 1s 2ms/step - loss: 6.6550e-04 - val_loss: 7.2581e-04\n",
            "Epoch 223/400\n",
            "317/317 [==============================] - 1s 2ms/step - loss: 6.6528e-04 - val_loss: 7.2589e-04\n",
            "Epoch 224/400\n",
            "317/317 [==============================] - 1s 2ms/step - loss: 6.6569e-04 - val_loss: 7.2537e-04\n",
            "Epoch 225/400\n",
            "317/317 [==============================] - 1s 2ms/step - loss: 6.6505e-04 - val_loss: 7.2541e-04\n",
            "Epoch 226/400\n",
            "317/317 [==============================] - 1s 2ms/step - loss: 6.6705e-04 - val_loss: 7.3640e-04\n",
            "Epoch 227/400\n",
            "317/317 [==============================] - 1s 3ms/step - loss: 6.7816e-04 - val_loss: 7.2609e-04\n",
            "Epoch 228/400\n",
            "317/317 [==============================] - 1s 3ms/step - loss: 6.6632e-04 - val_loss: 7.2638e-04\n",
            "Epoch 229/400\n",
            "317/317 [==============================] - 1s 3ms/step - loss: 6.6625e-04 - val_loss: 7.2572e-04\n",
            "Epoch 230/400\n",
            "317/317 [==============================] - 1s 2ms/step - loss: 6.6554e-04 - val_loss: 7.2628e-04\n",
            "Epoch 231/400\n",
            "317/317 [==============================] - 1s 2ms/step - loss: 6.6505e-04 - val_loss: 7.2538e-04\n",
            "Epoch 232/400\n",
            "317/317 [==============================] - 1s 3ms/step - loss: 6.6535e-04 - val_loss: 7.2576e-04\n",
            "Epoch 233/400\n",
            "317/317 [==============================] - 1s 2ms/step - loss: 6.6501e-04 - val_loss: 7.2554e-04\n",
            "Epoch 234/400\n",
            "317/317 [==============================] - 1s 3ms/step - loss: 6.6554e-04 - val_loss: 7.2600e-04\n",
            "Epoch 235/400\n",
            "317/317 [==============================] - 1s 2ms/step - loss: 6.6503e-04 - val_loss: 7.2588e-04\n",
            "Epoch 236/400\n",
            "317/317 [==============================] - 1s 2ms/step - loss: 6.6554e-04 - val_loss: 7.2687e-04\n",
            "Epoch 237/400\n",
            "317/317 [==============================] - 1s 2ms/step - loss: 6.6531e-04 - val_loss: 7.2832e-04\n",
            "Epoch 238/400\n",
            "317/317 [==============================] - 1s 3ms/step - loss: 6.6714e-04 - val_loss: 7.2886e-04\n",
            "Epoch 239/400\n",
            "317/317 [==============================] - 1s 3ms/step - loss: 6.6702e-04 - val_loss: 7.2573e-04\n",
            "Epoch 240/400\n",
            "317/317 [==============================] - 1s 2ms/step - loss: 6.6560e-04 - val_loss: 7.2549e-04\n",
            "Epoch 241/400\n",
            "317/317 [==============================] - 1s 2ms/step - loss: 6.6553e-04 - val_loss: 7.2566e-04\n",
            "Epoch 242/400\n",
            "317/317 [==============================] - 1s 2ms/step - loss: 6.6560e-04 - val_loss: 7.2623e-04\n",
            "Epoch 243/400\n",
            "317/317 [==============================] - 1s 2ms/step - loss: 6.6540e-04 - val_loss: 7.2991e-04\n",
            "Epoch 244/400\n",
            "317/317 [==============================] - 1s 2ms/step - loss: 6.6694e-04 - val_loss: 7.4179e-04\n",
            "Epoch 245/400\n",
            "317/317 [==============================] - 1s 3ms/step - loss: 6.7540e-04 - val_loss: 7.2596e-04\n",
            "Epoch 246/400\n",
            "317/317 [==============================] - 1s 2ms/step - loss: 6.6509e-04 - val_loss: 7.3295e-04\n",
            "Epoch 247/400\n",
            "317/317 [==============================] - 1s 3ms/step - loss: 6.6562e-04 - val_loss: 7.2541e-04\n",
            "Epoch 248/400\n",
            "317/317 [==============================] - 1s 3ms/step - loss: 6.6530e-04 - val_loss: 7.2522e-04\n",
            "Epoch 249/400\n",
            "317/317 [==============================] - 1s 2ms/step - loss: 6.6478e-04 - val_loss: 7.2527e-04\n",
            "Epoch 250/400\n",
            "317/317 [==============================] - 1s 2ms/step - loss: 6.6573e-04 - val_loss: 7.3016e-04\n",
            "Epoch 251/400\n",
            "317/317 [==============================] - 1s 2ms/step - loss: 6.6625e-04 - val_loss: 7.2527e-04\n",
            "Epoch 252/400\n",
            "317/317 [==============================] - 1s 2ms/step - loss: 6.6639e-04 - val_loss: 7.3714e-04\n",
            "Epoch 253/400\n",
            "317/317 [==============================] - 1s 3ms/step - loss: 6.6603e-04 - val_loss: 7.2527e-04\n",
            "Epoch 254/400\n",
            "317/317 [==============================] - 1s 3ms/step - loss: 6.6493e-04 - val_loss: 7.2557e-04\n",
            "Epoch 255/400\n",
            "317/317 [==============================] - 1s 3ms/step - loss: 6.6604e-04 - val_loss: 7.2721e-04\n",
            "Epoch 256/400\n",
            "317/317 [==============================] - 1s 4ms/step - loss: 6.6528e-04 - val_loss: 7.2535e-04\n",
            "Epoch 257/400\n",
            "317/317 [==============================] - 1s 3ms/step - loss: 6.6502e-04 - val_loss: 7.2648e-04\n",
            "Epoch 258/400\n",
            "317/317 [==============================] - 1s 4ms/step - loss: 6.6533e-04 - val_loss: 7.2563e-04\n",
            "Epoch 259/400\n",
            "317/317 [==============================] - 1s 3ms/step - loss: 6.6769e-04 - val_loss: 7.2817e-04\n",
            "Epoch 260/400\n",
            "317/317 [==============================] - 1s 2ms/step - loss: 6.6576e-04 - val_loss: 7.2544e-04\n",
            "Epoch 261/400\n",
            "317/317 [==============================] - 1s 2ms/step - loss: 6.6505e-04 - val_loss: 7.2555e-04\n",
            "Epoch 262/400\n",
            "317/317 [==============================] - 1s 3ms/step - loss: 6.6645e-04 - val_loss: 7.2964e-04\n",
            "Epoch 263/400\n",
            "317/317 [==============================] - 1s 2ms/step - loss: 6.6578e-04 - val_loss: 7.2873e-04\n",
            "Epoch 264/400\n",
            "317/317 [==============================] - 1s 3ms/step - loss: 6.6515e-04 - val_loss: 7.2520e-04\n",
            "Epoch 265/400\n",
            "317/317 [==============================] - 1s 3ms/step - loss: 6.6520e-04 - val_loss: 7.2523e-04\n",
            "Epoch 266/400\n",
            "317/317 [==============================] - 1s 2ms/step - loss: 6.6659e-04 - val_loss: 7.2947e-04\n",
            "Epoch 267/400\n",
            "317/317 [==============================] - 1s 3ms/step - loss: 6.6504e-04 - val_loss: 7.2534e-04\n",
            "Epoch 268/400\n",
            "317/317 [==============================] - 1s 2ms/step - loss: 6.6494e-04 - val_loss: 7.2671e-04\n",
            "Epoch 269/400\n",
            "317/317 [==============================] - 1s 2ms/step - loss: 6.6999e-04 - val_loss: 7.2828e-04\n",
            "Epoch 270/400\n",
            "317/317 [==============================] - 1s 3ms/step - loss: 6.6601e-04 - val_loss: 7.2542e-04\n",
            "Epoch 271/400\n",
            "317/317 [==============================] - 1s 2ms/step - loss: 6.6486e-04 - val_loss: 7.2526e-04\n",
            "Epoch 272/400\n",
            "317/317 [==============================] - 1s 3ms/step - loss: 6.6478e-04 - val_loss: 7.2519e-04\n",
            "Epoch 273/400\n",
            "317/317 [==============================] - 1s 2ms/step - loss: 6.6483e-04 - val_loss: 7.2547e-04\n",
            "Epoch 274/400\n",
            "317/317 [==============================] - 1s 2ms/step - loss: 6.6579e-04 - val_loss: 7.2550e-04\n",
            "Epoch 275/400\n",
            "317/317 [==============================] - 1s 3ms/step - loss: 6.6557e-04 - val_loss: 7.2772e-04\n",
            "Epoch 276/400\n",
            "317/317 [==============================] - 1s 2ms/step - loss: 6.6829e-04 - val_loss: 7.2540e-04\n",
            "Epoch 277/400\n",
            "317/317 [==============================] - 1s 2ms/step - loss: 6.6482e-04 - val_loss: 7.2526e-04\n",
            "Epoch 278/400\n",
            "317/317 [==============================] - 1s 2ms/step - loss: 6.6481e-04 - val_loss: 7.2529e-04\n",
            "Epoch 279/400\n",
            "317/317 [==============================] - 1s 3ms/step - loss: 6.6550e-04 - val_loss: 7.2543e-04\n",
            "Epoch 280/400\n",
            "317/317 [==============================] - 1s 2ms/step - loss: 6.6608e-04 - val_loss: 7.3093e-04\n",
            "Epoch 281/400\n",
            "317/317 [==============================] - 1s 2ms/step - loss: 6.6717e-04 - val_loss: 7.2624e-04\n",
            "Epoch 282/400\n",
            "317/317 [==============================] - 1s 3ms/step - loss: 6.6542e-04 - val_loss: 7.2519e-04\n",
            "Epoch 283/400\n",
            "317/317 [==============================] - 1s 2ms/step - loss: 6.6491e-04 - val_loss: 7.2520e-04\n",
            "Epoch 284/400\n",
            "317/317 [==============================] - 1s 2ms/step - loss: 6.6491e-04 - val_loss: 7.2531e-04\n",
            "Epoch 285/400\n",
            "317/317 [==============================] - 1s 2ms/step - loss: 6.6940e-04 - val_loss: 7.2729e-04\n",
            "Epoch 286/400\n",
            "317/317 [==============================] - 1s 2ms/step - loss: 6.6583e-04 - val_loss: 7.3284e-04\n",
            "Epoch 287/400\n",
            "317/317 [==============================] - 1s 2ms/step - loss: 6.6619e-04 - val_loss: 7.2527e-04\n",
            "Epoch 288/400\n",
            "317/317 [==============================] - 1s 3ms/step - loss: 6.6481e-04 - val_loss: 7.2518e-04\n",
            "Epoch 289/400\n",
            "317/317 [==============================] - 1s 3ms/step - loss: 6.6480e-04 - val_loss: 7.2529e-04\n",
            "Epoch 290/400\n",
            "317/317 [==============================] - 1s 2ms/step - loss: 6.6934e-04 - val_loss: 7.2706e-04\n",
            "Epoch 291/400\n",
            "317/317 [==============================] - 1s 3ms/step - loss: 6.6509e-04 - val_loss: 7.2552e-04\n",
            "Epoch 292/400\n",
            "317/317 [==============================] - 1s 2ms/step - loss: 6.6478e-04 - val_loss: 7.2532e-04\n",
            "Epoch 293/400\n",
            "317/317 [==============================] - 1s 2ms/step - loss: 6.6522e-04 - val_loss: 7.2593e-04\n",
            "Epoch 294/400\n",
            "317/317 [==============================] - 1s 3ms/step - loss: 6.6584e-04 - val_loss: 7.2532e-04\n",
            "Epoch 295/400\n",
            "317/317 [==============================] - 1s 2ms/step - loss: 6.6494e-04 - val_loss: 7.2655e-04\n",
            "Epoch 296/400\n",
            "317/317 [==============================] - 1s 3ms/step - loss: 6.6560e-04 - val_loss: 7.3692e-04\n",
            "Epoch 297/400\n",
            "317/317 [==============================] - 1s 2ms/step - loss: 6.6849e-04 - val_loss: 7.3209e-04\n",
            "Epoch 298/400\n",
            "317/317 [==============================] - 1s 3ms/step - loss: 6.6669e-04 - val_loss: 7.2623e-04\n",
            "Epoch 299/400\n",
            "317/317 [==============================] - 1s 2ms/step - loss: 6.6511e-04 - val_loss: 7.2523e-04\n",
            "Epoch 300/400\n",
            "317/317 [==============================] - 1s 3ms/step - loss: 6.6476e-04 - val_loss: 7.2525e-04\n",
            "Epoch 301/400\n",
            "317/317 [==============================] - 1s 3ms/step - loss: 6.6517e-04 - val_loss: 7.2522e-04\n",
            "Epoch 302/400\n",
            "317/317 [==============================] - 1s 3ms/step - loss: 6.6532e-04 - val_loss: 7.2536e-04\n",
            "Epoch 303/400\n",
            "317/317 [==============================] - 1s 2ms/step - loss: 6.7002e-04 - val_loss: 7.3177e-04\n",
            "Epoch 304/400\n",
            "317/317 [==============================] - 1s 2ms/step - loss: 6.6789e-04 - val_loss: 7.2538e-04\n",
            "Epoch 305/400\n",
            "317/317 [==============================] - 1s 3ms/step - loss: 6.6491e-04 - val_loss: 7.2648e-04\n",
            "Epoch 306/400\n",
            "317/317 [==============================] - 1s 2ms/step - loss: 6.6518e-04 - val_loss: 7.2526e-04\n",
            "Epoch 307/400\n",
            "317/317 [==============================] - 1s 2ms/step - loss: 6.6509e-04 - val_loss: 7.2735e-04\n",
            "Epoch 308/400\n",
            "317/317 [==============================] - 1s 3ms/step - loss: 6.6543e-04 - val_loss: 7.2524e-04\n",
            "Epoch 309/400\n",
            "317/317 [==============================] - 1s 3ms/step - loss: 6.6480e-04 - val_loss: 7.2726e-04\n",
            "Epoch 310/400\n",
            "317/317 [==============================] - 1s 3ms/step - loss: 6.6536e-04 - val_loss: 7.2915e-04\n",
            "Epoch 311/400\n",
            "317/317 [==============================] - 1s 2ms/step - loss: 6.6836e-04 - val_loss: 7.2544e-04\n",
            "Epoch 312/400\n",
            "317/317 [==============================] - 1s 2ms/step - loss: 6.6499e-04 - val_loss: 7.2539e-04\n",
            "Epoch 313/400\n",
            "317/317 [==============================] - 1s 3ms/step - loss: 6.6503e-04 - val_loss: 7.2538e-04\n",
            "Epoch 314/400\n",
            "317/317 [==============================] - 1s 2ms/step - loss: 6.6633e-04 - val_loss: 7.2692e-04\n",
            "Epoch 315/400\n",
            "317/317 [==============================] - 1s 3ms/step - loss: 6.6743e-04 - val_loss: 7.2686e-04\n",
            "Epoch 316/400\n",
            "317/317 [==============================] - 1s 2ms/step - loss: 6.6572e-04 - val_loss: 7.3765e-04\n",
            "Epoch 317/400\n",
            "317/317 [==============================] - 1s 3ms/step - loss: 6.6542e-04 - val_loss: 7.2534e-04\n",
            "Epoch 318/400\n",
            "317/317 [==============================] - 1s 2ms/step - loss: 6.6477e-04 - val_loss: 7.2518e-04\n",
            "Epoch 319/400\n",
            "317/317 [==============================] - 1s 2ms/step - loss: 6.6493e-04 - val_loss: 7.2552e-04\n",
            "Epoch 320/400\n",
            "317/317 [==============================] - 1s 3ms/step - loss: 6.7174e-04 - val_loss: 7.3097e-04\n",
            "Epoch 321/400\n",
            "317/317 [==============================] - 1s 2ms/step - loss: 6.6639e-04 - val_loss: 7.2561e-04\n",
            "Epoch 322/400\n",
            "317/317 [==============================] - 1s 2ms/step - loss: 6.6483e-04 - val_loss: 7.2527e-04\n",
            "Epoch 323/400\n",
            "317/317 [==============================] - 1s 3ms/step - loss: 6.6529e-04 - val_loss: 7.2982e-04\n",
            "Epoch 324/400\n",
            "317/317 [==============================] - 1s 2ms/step - loss: 6.6554e-04 - val_loss: 7.2545e-04\n",
            "Epoch 325/400\n",
            "317/317 [==============================] - 1s 2ms/step - loss: 6.6595e-04 - val_loss: 7.2807e-04\n",
            "Epoch 326/400\n",
            "317/317 [==============================] - 1s 3ms/step - loss: 6.6539e-04 - val_loss: 7.2559e-04\n",
            "Epoch 327/400\n",
            "317/317 [==============================] - 1s 3ms/step - loss: 6.6548e-04 - val_loss: 7.2606e-04\n",
            "Epoch 328/400\n",
            "317/317 [==============================] - 1s 2ms/step - loss: 6.6627e-04 - val_loss: 7.2564e-04\n",
            "Epoch 329/400\n",
            "317/317 [==============================] - 1s 2ms/step - loss: 6.6504e-04 - val_loss: 7.2727e-04\n",
            "Epoch 330/400\n",
            "317/317 [==============================] - 1s 2ms/step - loss: 6.6563e-04 - val_loss: 7.2581e-04\n",
            "Epoch 331/400\n",
            "317/317 [==============================] - 1s 2ms/step - loss: 6.6490e-04 - val_loss: 7.2541e-04\n",
            "Epoch 332/400\n",
            "317/317 [==============================] - 1s 3ms/step - loss: 6.6746e-04 - val_loss: 7.2605e-04\n",
            "Epoch 333/400\n",
            "317/317 [==============================] - 1s 2ms/step - loss: 6.6485e-04 - val_loss: 7.2528e-04\n",
            "Epoch 334/400\n",
            "317/317 [==============================] - 1s 3ms/step - loss: 6.6485e-04 - val_loss: 7.2526e-04\n",
            "Epoch 335/400\n",
            "317/317 [==============================] - 1s 2ms/step - loss: 6.6519e-04 - val_loss: 7.2532e-04\n",
            "Epoch 336/400\n",
            "317/317 [==============================] - 1s 2ms/step - loss: 6.6963e-04 - val_loss: 7.2715e-04\n",
            "Epoch 337/400\n",
            "317/317 [==============================] - 1s 3ms/step - loss: 6.6559e-04 - val_loss: 7.2553e-04\n",
            "Epoch 338/400\n",
            "317/317 [==============================] - 1s 2ms/step - loss: 6.6511e-04 - val_loss: 7.2564e-04\n",
            "Epoch 339/400\n",
            "317/317 [==============================] - 1s 2ms/step - loss: 6.6544e-04 - val_loss: 7.2572e-04\n",
            "Epoch 340/400\n",
            "317/317 [==============================] - 1s 3ms/step - loss: 6.6566e-04 - val_loss: 7.2550e-04\n",
            "Epoch 341/400\n",
            "317/317 [==============================] - 1s 3ms/step - loss: 6.6593e-04 - val_loss: 7.2546e-04\n",
            "Epoch 342/400\n",
            "317/317 [==============================] - 1s 2ms/step - loss: 6.6557e-04 - val_loss: 7.2534e-04\n",
            "Epoch 343/400\n",
            "317/317 [==============================] - 1s 2ms/step - loss: 6.6515e-04 - val_loss: 7.2545e-04\n",
            "Epoch 344/400\n",
            "317/317 [==============================] - 1s 3ms/step - loss: 6.6699e-04 - val_loss: 7.2771e-04\n",
            "Epoch 345/400\n",
            "317/317 [==============================] - 1s 3ms/step - loss: 6.6636e-04 - val_loss: 7.2528e-04\n",
            "Epoch 346/400\n",
            "317/317 [==============================] - 1s 3ms/step - loss: 6.6478e-04 - val_loss: 7.2518e-04\n",
            "Epoch 347/400\n",
            "317/317 [==============================] - 1s 2ms/step - loss: 6.6482e-04 - val_loss: 7.2527e-04\n",
            "Epoch 348/400\n",
            "317/317 [==============================] - 1s 3ms/step - loss: 6.6653e-04 - val_loss: 7.2523e-04\n",
            "Epoch 349/400\n",
            "317/317 [==============================] - 1s 3ms/step - loss: 6.6482e-04 - val_loss: 7.2519e-04\n",
            "Epoch 350/400\n",
            "317/317 [==============================] - 1s 2ms/step - loss: 6.6567e-04 - val_loss: 7.2710e-04\n",
            "Epoch 351/400\n",
            "317/317 [==============================] - 1s 3ms/step - loss: 6.6675e-04 - val_loss: 7.2557e-04\n",
            "Epoch 352/400\n",
            "317/317 [==============================] - 1s 2ms/step - loss: 6.6503e-04 - val_loss: 7.2555e-04\n",
            "Epoch 353/400\n",
            "317/317 [==============================] - 1s 2ms/step - loss: 6.6482e-04 - val_loss: 7.2539e-04\n",
            "Epoch 354/400\n",
            "317/317 [==============================] - 1s 3ms/step - loss: 6.6583e-04 - val_loss: 7.2525e-04\n",
            "Epoch 355/400\n",
            "317/317 [==============================] - 1s 3ms/step - loss: 6.6635e-04 - val_loss: 7.2662e-04\n",
            "Epoch 356/400\n",
            "317/317 [==============================] - 1s 3ms/step - loss: 6.6617e-04 - val_loss: 7.2552e-04\n",
            "Epoch 357/400\n",
            "317/317 [==============================] - 1s 2ms/step - loss: 6.6515e-04 - val_loss: 7.2585e-04\n",
            "Epoch 358/400\n",
            "317/317 [==============================] - 1s 3ms/step - loss: 6.6506e-04 - val_loss: 7.2585e-04\n",
            "Epoch 359/400\n",
            "317/317 [==============================] - 1s 3ms/step - loss: 6.6585e-04 - val_loss: 7.2622e-04\n",
            "Epoch 360/400\n",
            "317/317 [==============================] - 1s 2ms/step - loss: 6.6628e-04 - val_loss: 7.2524e-04\n",
            "Epoch 361/400\n",
            "317/317 [==============================] - 1s 2ms/step - loss: 6.6500e-04 - val_loss: 7.2560e-04\n",
            "Epoch 362/400\n",
            "317/317 [==============================] - 1s 2ms/step - loss: 6.6488e-04 - val_loss: 7.2605e-04\n",
            "Epoch 363/400\n",
            "317/317 [==============================] - 1s 2ms/step - loss: 6.6757e-04 - val_loss: 7.4318e-04\n",
            "Epoch 364/400\n",
            "317/317 [==============================] - 1s 3ms/step - loss: 6.6767e-04 - val_loss: 7.2533e-04\n",
            "Epoch 365/400\n",
            "317/317 [==============================] - 1s 3ms/step - loss: 6.6504e-04 - val_loss: 7.2528e-04\n",
            "Epoch 366/400\n",
            "317/317 [==============================] - 1s 3ms/step - loss: 6.6485e-04 - val_loss: 7.2520e-04\n",
            "Epoch 367/400\n",
            "317/317 [==============================] - 1s 3ms/step - loss: 6.6480e-04 - val_loss: 7.2528e-04\n",
            "Epoch 368/400\n",
            "317/317 [==============================] - 1s 3ms/step - loss: 6.6484e-04 - val_loss: 7.2544e-04\n",
            "Epoch 369/400\n",
            "317/317 [==============================] - 1s 3ms/step - loss: 6.6562e-04 - val_loss: 7.2599e-04\n",
            "Epoch 370/400\n",
            "317/317 [==============================] - 1s 3ms/step - loss: 6.6504e-04 - val_loss: 7.2530e-04\n",
            "Epoch 371/400\n",
            "317/317 [==============================] - 1s 3ms/step - loss: 6.6633e-04 - val_loss: 7.3586e-04\n",
            "Epoch 372/400\n",
            "317/317 [==============================] - 1s 2ms/step - loss: 6.1557e-04 - val_loss: 5.1132e-04\n",
            "Epoch 373/400\n",
            "317/317 [==============================] - 1s 2ms/step - loss: 4.4816e-04 - val_loss: 4.6768e-04\n",
            "Epoch 374/400\n",
            "317/317 [==============================] - 1s 3ms/step - loss: 4.1130e-04 - val_loss: 4.5008e-04\n",
            "Epoch 375/400\n",
            "317/317 [==============================] - 1s 2ms/step - loss: 4.1349e-04 - val_loss: 4.6451e-04\n",
            "Epoch 376/400\n",
            "317/317 [==============================] - 1s 2ms/step - loss: 4.0010e-04 - val_loss: 4.4815e-04\n",
            "Epoch 377/400\n",
            "317/317 [==============================] - 1s 2ms/step - loss: 4.1787e-04 - val_loss: 4.0124e-04\n",
            "Epoch 378/400\n",
            "317/317 [==============================] - 1s 3ms/step - loss: 3.5936e-04 - val_loss: 3.7923e-04\n",
            "Epoch 379/400\n",
            "317/317 [==============================] - 1s 2ms/step - loss: 3.9145e-04 - val_loss: 3.8142e-04\n",
            "Epoch 380/400\n",
            "317/317 [==============================] - 1s 3ms/step - loss: 3.4988e-04 - val_loss: 3.6780e-04\n",
            "Epoch 381/400\n",
            "317/317 [==============================] - 1s 3ms/step - loss: 3.5152e-04 - val_loss: 3.6694e-04\n",
            "Epoch 382/400\n",
            "317/317 [==============================] - 1s 3ms/step - loss: 3.4156e-04 - val_loss: 3.9313e-04\n",
            "Epoch 383/400\n",
            "317/317 [==============================] - 1s 3ms/step - loss: 3.4488e-04 - val_loss: 3.3175e-04\n",
            "Epoch 384/400\n",
            "317/317 [==============================] - 1s 3ms/step - loss: 3.2727e-04 - val_loss: 4.0057e-04\n",
            "Epoch 385/400\n",
            "317/317 [==============================] - 1s 2ms/step - loss: 3.3934e-04 - val_loss: 3.6233e-04\n",
            "Epoch 386/400\n",
            "317/317 [==============================] - 1s 3ms/step - loss: 3.3407e-04 - val_loss: 3.2498e-04\n",
            "Epoch 387/400\n",
            "317/317 [==============================] - 1s 3ms/step - loss: 2.8766e-04 - val_loss: 3.2181e-04\n",
            "Epoch 388/400\n",
            "317/317 [==============================] - 1s 3ms/step - loss: 2.9144e-04 - val_loss: 3.2216e-04\n",
            "Epoch 389/400\n",
            "317/317 [==============================] - 1s 2ms/step - loss: 3.1119e-04 - val_loss: 3.1086e-04\n",
            "Epoch 390/400\n",
            "317/317 [==============================] - 1s 3ms/step - loss: 2.5372e-04 - val_loss: 2.6579e-04\n",
            "Epoch 391/400\n",
            "317/317 [==============================] - 1s 3ms/step - loss: 2.4647e-04 - val_loss: 2.3898e-04\n",
            "Epoch 392/400\n",
            "317/317 [==============================] - 1s 2ms/step - loss: 2.1238e-04 - val_loss: 2.3843e-04\n",
            "Epoch 393/400\n",
            "317/317 [==============================] - 1s 2ms/step - loss: 2.0319e-04 - val_loss: 2.9275e-04\n",
            "Epoch 394/400\n",
            "317/317 [==============================] - 1s 3ms/step - loss: 2.0388e-04 - val_loss: 2.5174e-04\n",
            "Epoch 395/400\n",
            "317/317 [==============================] - 1s 3ms/step - loss: 1.5244e-04 - val_loss: 1.4060e-04\n",
            "Epoch 396/400\n",
            "317/317 [==============================] - 1s 2ms/step - loss: 8.6250e-05 - val_loss: 8.5714e-05\n",
            "Epoch 397/400\n",
            "317/317 [==============================] - 1s 3ms/step - loss: 1.0183e-04 - val_loss: 6.6419e-05\n",
            "Epoch 398/400\n",
            "317/317 [==============================] - 1s 3ms/step - loss: 5.3101e-04 - val_loss: 7.3052e-04\n",
            "Epoch 399/400\n",
            "317/317 [==============================] - 1s 3ms/step - loss: 6.6585e-04 - val_loss: 7.2606e-04\n",
            "Epoch 400/400\n",
            "317/317 [==============================] - 1s 2ms/step - loss: 6.6542e-04 - val_loss: 7.2572e-04\n"
          ]
        }
      ]
    },
    {
      "cell_type": "code",
      "metadata": {
        "id": "19U1b6Khep0d",
        "colab": {
          "base_uri": "https://localhost:8080/",
          "height": 301
        },
        "outputId": "b33fd14a-6094-4c4b-9204-8aa35323a2ee"
      },
      "source": [
        "# summarize history for accuracy\n",
        "plt.plot(history.history['loss'])\n",
        "plt.plot(history.history['val_loss'])\n",
        "plt.title('loss function')\n",
        "plt.ylabel('mse')\n",
        "plt.xlabel('epoch')\n",
        "plt.legend(['train', 'val'], loc='upper left')\n",
        "plt.show()"
      ],
      "execution_count": 50,
      "outputs": [
        {
          "output_type": "display_data",
          "data": {
            "text/plain": [
              "<Figure size 432x288 with 1 Axes>"
            ],
            "image/png": "[encoded data removed]"
          },
          "metadata": {
            "needs_background": "light"
          }
        }
      ]
    },
    {
      "cell_type": "markdown",
      "metadata": {
        "id": "XzKD6OTtLBYd"
      },
      "source": [
        "#Evaluate model on test data\n",
        "\n"
      ]
    },
    {
      "cell_type": "code",
      "metadata": {
        "id": "2D2Ih0D1Kp7X",
        "colab": {
          "base_uri": "https://localhost:8080/"
        },
        "outputId": "182b6f1d-95e6-473f-e928-bacaaf0a44f0"
      },
      "source": [
        "# Evaluate your model accuracy on the test data\n",
        "loss_test = model.evaluate(X_test,y_test)\n",
        "\n",
        "# Print accuracy\n",
        "print('mse_test:', loss_test)"
      ],
      "execution_count": 51,
      "outputs": [
        {
          "output_type": "stream",
          "name": "stdout",
          "text": [
            "99/99 [==============================] - 0s 1ms/step - loss: 0.0012\n",
            "mse_test: 0.001160272629931569\n"
          ]
        }
      ]
    },
    {
      "cell_type": "markdown",
      "metadata": {
        "id": "lhnPDKogffYb"
      },
      "source": [
        "#Plot error\n"
      ]
    },
    {
      "cell_type": "code",
      "metadata": {
        "id": "L3KJsKY7mkNN"
      },
      "source": [
        ""
      ],
      "execution_count": null,
      "outputs": []
    },
    {
      "cell_type": "code",
      "metadata": {
        "id": "5Pa1cXJYl6uE"
      },
      "source": [
        "def plot_comparison(x_val, pred, truth, xlab, ylab):\n",
        "  fig, ax1 = plt.subplots()\n",
        "  ax1.plot(x_val, truth, color = \"red\", label = \"truth\",linestyle='None', marker = \"o\", markersize = 5)\n",
        "  ax1.plot(x_val, pred, color = \"blue\", label = \"pred\",linestyle='None', marker = \"o\", markersize = 4, alpha = 0.5)\n",
        "\n",
        "  ax1.set_xlabel(xlab)\n",
        "  ax1.set_ylabel(ylab)\n",
        "  ax1.legend()\n",
        "  fig.set_figheight(10)\n",
        "  fig.set_figwidth(20)\n",
        "  plt.title('Prediction Comparison')\n",
        "  plt.show()"
      ],
      "execution_count": 52,
      "outputs": []
    },
    {
      "cell_type": "code",
      "source": [
        "y_pred = scalerY.inverse_transform(model.predict(X_test))\n",
        "y_truth = scalerY.inverse_transform(y_test)\n",
        "\n",
        "plt.scatter(y_truth,y_pred)"
      ],
      "metadata": {
        "colab": {
          "base_uri": "https://localhost:8080/",
          "height": 285
        },
        "id": "XdMRAoBW3_6k",
        "outputId": "983d06d3-05de-4878-d620-a179e2aa9a14"
      },
      "execution_count": 53,
      "outputs": [
        {
          "output_type": "execute_result",
          "data": {
            "text/plain": [
              "<matplotlib.collections.PathCollection at 0x7f81883b5690>"
            ]
          },
          "metadata": {},
          "execution_count": 53
        },
        {
          "output_type": "display_data",
          "data": {
            "text/plain": [
              "<Figure size 432x288 with 1 Axes>"
            ],
            "image/png": "[encoded data removed]"
          },
          "metadata": {
            "needs_background": "light"
          }
        }
      ]
    },
    {
      "cell_type": "markdown",
      "source": [
        "'Heating-energy-kWh/m2 a', 'Cooling-energy-kWh/m2 a','DHW-energy-kWh/m2 a', 'total-energy-kWh/m2 a'"
      ],
      "metadata": {
        "id": "cQL2wESr3gz1"
      }
    },
    {
      "cell_type": "code",
      "source": [
        "y_pred = scalerY.inverse_transform(model.predict(X_test))\n",
        "y_truth = scalerY.inverse_transform(y_test)\n",
        "plt.scatter(y_truth,y_truth, c='red')\n",
        "plt.scatter(y_pred,y_pred, c='blue')"
      ],
      "metadata": {
        "colab": {
          "base_uri": "https://localhost:8080/",
          "height": 285
        },
        "id": "Tr6oUbgY3_W4",
        "outputId": "15a25527-ed14-414f-f2ca-3830122a6296"
      },
      "execution_count": 54,
      "outputs": [
        {
          "output_type": "execute_result",
          "data": {
            "text/plain": [
              "<matplotlib.collections.PathCollection at 0x7f81888dd890>"
            ]
          },
          "metadata": {},
          "execution_count": 54
        },
        {
          "output_type": "display_data",
          "data": {
            "text/plain": [
              "<Figure size 432x288 with 1 Axes>"
            ],
            "image/png": "[encoded data removed]"
          },
          "metadata": {
            "needs_background": "light"
          }
        }
      ]
    },
    {
      "cell_type": "code",
      "metadata": {
        "id": "hn8zoGe8mfBT",
        "colab": {
          "base_uri": "https://localhost:8080/",
          "height": 917
        },
        "outputId": "b776d308-47a8-469f-9641-8f6f83f0f367"
      },
      "source": [
        "age_test = (scalerX.inverse_transform(X_test)[:,0])\n",
        "\n",
        "exp_test = (scalerX.inverse_transform(X_test)[:,1])\n",
        "\n",
        "plot_comparison(age_test, y_pred, y_truth, \"Heating-energy-kWh/m2 a\", \"Heating-energy-kWh/m2 a\")\n",
        "plot_comparison(exp_test, y_pred, y_truth,  \"Cooling-energy-kWh/m2 a\", \"Cooling-energy-kWh/m2 a\")"
      ],
      "execution_count": 55,
      "outputs": [
        {
          "output_type": "display_data",
          "data": {
            "text/plain": [
              "<Figure size 1440x720 with 1 Axes>"
            ],
            "image/png": "[encoded data removed]"
          },
          "metadata": {
            "needs_background": "light"
          }
        },
        {
          "output_type": "display_data",
          "data": {
            "text/plain": [
              "<Figure size 1440x720 with 1 Axes>"
            ],
            "image/png": "[encoded data removed]"
          },
          "metadata": {
            "needs_background": "light"
          }
        }
      ]
    },
    {
      "cell_type": "code",
      "metadata": {
        "id": "6abeDxfon1UB",
        "colab": {
          "base_uri": "https://localhost:8080/",
          "height": 285
        },
        "outputId": "7b4a8ea8-c4e3-4e59-8ff3-b1ac02424b86"
      },
      "source": [
        "error = y_pred - y_truth\n",
        "plt.hist(error, bins=25)\n",
        "plt.xlabel('Prediction Error')\n",
        "_ = plt.ylabel('Count')"
      ],
      "execution_count": 56,
      "outputs": [
        {
          "output_type": "display_data",
          "data": {
            "text/plain": [
              "<Figure size 432x288 with 1 Axes>"
            ],
            "image/png": "[encoded data removed]"
          },
          "metadata": {
            "needs_background": "light"
          }
        }
      ]
    },
    {
      "cell_type": "markdown",
      "source": [
        "model saving"
      ],
      "metadata": {
        "id": "EGz1ANcUxfd4"
      }
    },
    {
      "cell_type": "code",
      "source": [
        ""
      ],
      "metadata": {
        "id": "IO3tlf6e0qdB"
      },
      "execution_count": null,
      "outputs": []
    },
    {
      "cell_type": "markdown",
      "source": [
        "Saving model"
      ],
      "metadata": {
        "id": "ZfGi-P518oLh"
      }
    },
    {
      "cell_type": "code",
      "source": [
        "#https://www.tensorflow.org/guide/keras/save_and_serialize\n",
        "model.save(\"/content/gdrive/MyDrive/AIA-IAAC/4-AIA-AI-UBREM/Iteration_5_Energy_prediction/ANN-4Dense.h5\")\n",
        "\n",
        "\n",
        "\n",
        "scalerX_filename = \"/content/gdrive/MyDrive/AIA-IAAC/4-AIA-AI-UBREM/Iteration_5_Energy_prediction/ANN_4D_scalerXAtoB.save\"\n",
        "joblib.dump(scalerX, scalerX_filename)\n",
        "\n",
        "scalerY_filename = \"/content/gdrive/MyDrive/AIA-IAAC/4-AIA-AI-UBREM/Iteration_5_Energy_prediction/ANN_4D_scalerYAtoB.save\"\n",
        "joblib.dump(scalerY, scalerY_filename)"
      ],
      "metadata": {
        "colab": {
          "base_uri": "https://localhost:8080/"
        },
        "id": "zJeFev-48n2J",
        "outputId": "fc8158ca-4036-4eee-bbe2-48ec169cd044"
      },
      "execution_count": 57,
      "outputs": [
        {
          "output_type": "execute_result",
          "data": {
            "text/plain": [
              "['/content/gdrive/MyDrive/AIA-IAAC/4-AIA-AI-UBREM/Iteration_5_Energy_prediction/ANN_4D_scalerYAtoB.save']"
            ]
          },
          "metadata": {},
          "execution_count": 57
        }
      ]
    }
  ]
}